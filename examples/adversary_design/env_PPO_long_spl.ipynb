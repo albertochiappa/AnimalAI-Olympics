{
 "cells": [
  {
   "cell_type": "code",
   "execution_count": 1,
   "id": "accepted-warner",
   "metadata": {},
   "outputs": [],
   "source": [
    "import gym\n",
    "import gym_example\n",
    "import matplotlib.pyplot as plt\n",
    "import numpy as np\n",
    "import matplotlib.patches as mpatches"
   ]
  },
  {
   "cell_type": "markdown",
   "id": "inner-spouse",
   "metadata": {},
   "source": [
    "# Adversary example: longest path between agent and goal\n",
    "\n",
    "This notebook trains the adversary to create the longest path possible between agent and goal. Only one wall is used. Grid size 38x38 in adversarial-v2 reward is set to: self.reward = self.shortest_path_length - 20."
   ]
  },
  {
   "cell_type": "markdown",
   "id": "buried-aggregate",
   "metadata": {},
   "source": [
    "## Checking that everything works"
   ]
  },
  {
   "cell_type": "code",
   "execution_count": 2,
   "id": "improved-attention",
   "metadata": {},
   "outputs": [],
   "source": [
    "env = gym.make(\"adversarial-v1\")"
   ]
  },
  {
   "cell_type": "code",
   "execution_count": 3,
   "id": "coupled-xerox",
   "metadata": {},
   "outputs": [],
   "source": [
    "def visualize(state):\n",
    "    fig = plt.imshow(state, cmap=plt.get_cmap('Accent'))\n",
    "    # values\n",
    "    values = np.array([0, 1, 2, 3])\n",
    "    #items\n",
    "    items = ['Arena', 'Agent', 'Goal', 'Wall']\n",
    "    # colormap used by imshow\n",
    "    colors = [fig.cmap(fig.norm(value)) for value in values]\n",
    "    # create a patch (proxy artist) for every color \n",
    "    patches = [mpatches.Patch(color=colors[i], label=\"{l}\".format(l=items[i]) ) for i in range(len(values)) ]\n",
    "    # put those patched as legend-handles into the legend\n",
    "    plt.legend(handles=patches, bbox_to_anchor=(1.05, 1), loc=2, borderaxespad=0. )\n",
    "\n",
    "    plt.grid(False)\n",
    "    plt.show()"
   ]
  },
  {
   "cell_type": "code",
   "execution_count": 4,
   "id": "potential-making",
   "metadata": {},
   "outputs": [],
   "source": [
    "def run_one_episode(env, verbose=False):\n",
    "    env.reset()\n",
    "    sum_reward = 0\n",
    "\n",
    "    for i in range(env.MAX_STEPS+1):\n",
    "        action = env.action_space.sample()\n",
    "        if verbose:\n",
    "            print(\"action:\", action)\n",
    "        state, reward, done, info = env.step(action)\n",
    "        sum_reward += reward\n",
    "\n",
    "        if verbose:\n",
    "            env.render()\n",
    "\n",
    "        if done:\n",
    "            if verbose:\n",
    "                print(\"done @ step {}\".format(i))\n",
    "            break\n",
    "\n",
    "    if verbose:\n",
    "        print(\"cumulative reward\", sum_reward)\n",
    "\n",
    "    return sum_reward"
   ]
  },
  {
   "cell_type": "code",
   "execution_count": 5,
   "id": "curious-lincoln",
   "metadata": {},
   "outputs": [
    {
     "name": "stdout",
     "output_type": "stream",
     "text": [
      "Sum reward:  13\n"
     ]
    },
    {
     "data": {
      "image/png": "[encoded data removed]",
      "text/plain": [
       "<Figure size 432x288 with 1 Axes>"
      ]
     },
     "metadata": {
      "needs_background": "light"
     },
     "output_type": "display_data"
    }
   ],
   "source": [
    "env = gym.make(\"adversarial-v1\")\n",
    "sum_reward = run_one_episode(env)\n",
    "print('Sum reward: ', sum_reward)\n",
    "\n",
    "#visualize(env.state) --> if adversarial_v0\n",
    "\n",
    "visualize(env.image_space) "
   ]
  },
  {
   "cell_type": "code",
   "execution_count": 6,
   "id": "bacterial-desktop",
   "metadata": {},
   "outputs": [
    {
     "data": {
      "text/plain": [
       "({'image': array([[1., 0., 0., ..., 0., 0., 0.],\n",
       "         [0., 0., 0., ..., 0., 0., 0.],\n",
       "         [0., 0., 0., ..., 0., 0., 0.],\n",
       "         ...,\n",
       "         [0., 0., 0., ..., 0., 0., 0.],\n",
       "         [0., 0., 0., ..., 0., 0., 0.],\n",
       "         [0., 0., 0., ..., 0., 0., 0.]]),\n",
       "  'time_step': [2]},\n",
       " 0,\n",
       " False,\n",
       " {})"
      ]
     },
     "execution_count": 6,
     "metadata": {},
     "output_type": "execute_result"
    }
   ],
   "source": [
    "env = gym.make(\"adversarial-v1\")\n",
    "env.step(0)\n",
    "env.step(0)"
   ]
  },
  {
   "cell_type": "code",
   "execution_count": 7,
   "id": "excellent-purchase",
   "metadata": {},
   "outputs": [
    {
     "name": "stdout",
     "output_type": "stream",
     "text": [
      "\n",
      "baseline cumulative reward:    7.5\n"
     ]
    }
   ],
   "source": [
    "history = []\n",
    "\n",
    "for _ in range(20):\n",
    "    sum_reward = run_one_episode(env, verbose=False)\n",
    "    history.append(sum_reward)\n",
    "\n",
    "avg_sum_reward = sum(history) / len(history)\n",
    "print(\"\\nbaseline cumulative reward: {:6.2}\".format(avg_sum_reward))"
   ]
  },
  {
   "cell_type": "code",
   "execution_count": 8,
   "id": "fourth-comedy",
   "metadata": {},
   "outputs": [
    {
     "data": {
      "text/plain": [
       "[12, 7, 1, 12, 12, 26, 17, 3, 14, -14, 16, 1, 1, 10, 12, -11, -8, 24, 9, 7]"
      ]
     },
     "execution_count": 8,
     "metadata": {},
     "output_type": "execute_result"
    }
   ],
   "source": [
    "history"
   ]
  },
  {
   "cell_type": "code",
   "execution_count": 9,
   "id": "logical-combine",
   "metadata": {},
   "outputs": [
    {
     "data": {
      "text/plain": [
       "(38, 38)"
      ]
     },
     "execution_count": 9,
     "metadata": {},
     "output_type": "execute_result"
    }
   ],
   "source": [
    "env.image_space.shape"
   ]
  },
  {
   "cell_type": "markdown",
   "id": "strong-restaurant",
   "metadata": {},
   "source": [
    "# Train\n",
    "\n",
    "Initialize the directory in which to save checkpoints (i.e., serialize a policy to disk) as a subdirectory ./tmp/exa and also the directory in which to write the logs which Ray expects to be at ~/ray_results/ by default:"
   ]
  },
  {
   "cell_type": "code",
   "execution_count": 10,
   "id": "satisfied-istanbul",
   "metadata": {},
   "outputs": [],
   "source": [
    "import os\n",
    "import shutil\n",
    "\n",
    "chkpt_root = \"tmp/exa\"\n",
    "\n",
    "shutil.rmtree(chkpt_root, ignore_errors=True, onerror=None)\n",
    "ray_results = \"{}/ray_results/\".format(os.getenv(\"HOME\"))\n",
    "shutil.rmtree(ray_results, ignore_errors=True, onerror=None)"
   ]
  },
  {
   "cell_type": "markdown",
   "id": "unlike-envelope",
   "metadata": {},
   "source": [
    "We’ll start Ray running in local mode, i.e., not running on a remote cluster:"
   ]
  },
  {
   "cell_type": "code",
   "execution_count": 11,
   "id": "attached-blanket",
   "metadata": {},
   "outputs": [
    {
     "name": "stderr",
     "output_type": "stream",
     "text": [
      "2021-04-02 17:03:30,880\tINFO services.py:1174 -- View the Ray dashboard at \u001b[1m\u001b[32mhttp://127.0.0.1:8265\u001b[39m\u001b[22m\n"
     ]
    },
    {
     "data": {
      "text/plain": [
       "{'node_ip_address': '192.168.1.48',\n",
       " 'raylet_ip_address': '192.168.1.48',\n",
       " 'redis_address': '192.168.1.48:6379',\n",
       " 'object_store_address': '/tmp/ray/session_2021-04-02_17-03-30_355255_44290/sockets/plasma_store',\n",
       " 'raylet_socket_name': '/tmp/ray/session_2021-04-02_17-03-30_355255_44290/sockets/raylet',\n",
       " 'webui_url': '127.0.0.1:8265',\n",
       " 'session_dir': '/tmp/ray/session_2021-04-02_17-03-30_355255_44290',\n",
       " 'metrics_export_port': 63930,\n",
       " 'node_id': '3fd35a0769fd83b0076419166ac11af33c3c2c7afb2adf00bfff257c'}"
      ]
     },
     "execution_count": 11,
     "metadata": {},
     "output_type": "execute_result"
    }
   ],
   "source": [
    "import ray\n",
    "\n",
    "ray.init(ignore_reinit_error=True, local_mode=True)"
   ]
  },
  {
   "cell_type": "markdown",
   "id": "grateful-pasta",
   "metadata": {},
   "source": [
    "Register our environment"
   ]
  },
  {
   "cell_type": "code",
   "execution_count": 12,
   "id": "great-migration",
   "metadata": {},
   "outputs": [],
   "source": [
    "from ray.tune.registry import register_env\n",
    "from gym_example.envs.adversarial_v1 import Adversarial_v1\n",
    "\n",
    "select_env = \"adversarial-v1\"\n",
    "register_env(select_env, lambda config: Adversarial_v1())"
   ]
  },
  {
   "cell_type": "markdown",
   "id": "reduced-anxiety",
   "metadata": {},
   "source": [
    "Next we’ll configure the environment to use proximal policy optimization (PPO) and create an agent to train using RLlib:"
   ]
  },
  {
   "cell_type": "code",
   "execution_count": 13,
   "id": "successful-forge",
   "metadata": {},
   "outputs": [
    {
     "name": "stdout",
     "output_type": "stream",
     "text": [
      "WARNING:tensorflow:From /home/psanchezlopez/anaconda3/envs/animalai/lib/python3.7/site-packages/tensorflow_core/python/compat/v2_compat.py:68: disable_resource_variables (from tensorflow.python.ops.variable_scope) is deprecated and will be removed in a future version.\n",
      "Instructions for updating:\n",
      "non-resource variables are not supported in the long term\n"
     ]
    },
    {
     "name": "stderr",
     "output_type": "stream",
     "text": [
      "2021-04-02 17:03:36,808\tINFO trainer.py:616 -- Tip: set framework=tfe or the --eager flag to enable TensorFlow eager execution\n",
      "2021-04-02 17:03:36,809\tINFO trainer.py:643 -- Current log_level is WARN. For more information, set 'log_level': 'INFO' / 'DEBUG' or use the -v and -vv flags.\n",
      "2021-04-02 17:03:36,899\tWARNING deprecation.py:34 -- DeprecationWarning: `framestack` has been deprecated. Use `num_framestacks (int)` instead. This will raise an error in the future!\n"
     ]
    },
    {
     "name": "stdout",
     "output_type": "stream",
     "text": [
      "WARNING:tensorflow:From /home/psanchezlopez/anaconda3/envs/animalai/lib/python3.7/site-packages/tensorflow_core/python/ops/resource_variable_ops.py:1630: calling BaseResourceVariable.__init__ (from tensorflow.python.ops.resource_variable_ops) with constraint is deprecated and will be removed in a future version.\n",
      "Instructions for updating:\n",
      "If using Keras pass *_constraint arguments to layers.\n",
      "WARNING:tensorflow:From /home/psanchezlopez/anaconda3/envs/animalai/lib/python3.7/site-packages/tensorflow_core/python/ops/math_grad.py:1424: where (from tensorflow.python.ops.array_ops) is deprecated and will be removed in a future version.\n",
      "Instructions for updating:\n",
      "Use tf.where in 2.0, which has the same broadcast rule as np.where\n"
     ]
    },
    {
     "name": "stderr",
     "output_type": "stream",
     "text": [
      "2021-04-02 17:03:37,993\tWARNING deprecation.py:34 -- DeprecationWarning: `framestack` has been deprecated. Use `num_framestacks (int)` instead. This will raise an error in the future!\n",
      "2021-04-02 17:03:38,972\tWARNING deprecation.py:34 -- DeprecationWarning: `framestack` has been deprecated. Use `num_framestacks (int)` instead. This will raise an error in the future!\n",
      "2021-04-02 17:03:41,759\tWARNING util.py:47 -- Install gputil for GPU system monitoring.\n"
     ]
    }
   ],
   "source": [
    "import ray.rllib.agents.ppo as ppo\n",
    "\n",
    "config = ppo.DEFAULT_CONFIG.copy()\n",
    "\n",
    "config[\"log_level\"] = \"WARN\"\n",
    "agent = ppo.PPOTrainer(config, env=select_env)"
   ]
  },
  {
   "cell_type": "code",
   "execution_count": 14,
   "id": "curious-shape",
   "metadata": {},
   "outputs": [
    {
     "data": {
      "text/plain": [
       "{'num_workers': 2,\n",
       " 'num_envs_per_worker': 1,\n",
       " 'create_env_on_driver': False,\n",
       " 'rollout_fragment_length': 200,\n",
       " 'batch_mode': 'truncate_episodes',\n",
       " 'num_gpus': 0,\n",
       " 'train_batch_size': 4000,\n",
       " 'model': {'fcnet_hiddens': [256, 256],\n",
       "  'fcnet_activation': 'tanh',\n",
       "  'conv_filters': None,\n",
       "  'conv_activation': 'relu',\n",
       "  'free_log_std': False,\n",
       "  'no_final_linear': False,\n",
       "  'vf_share_layers': False,\n",
       "  'use_lstm': False,\n",
       "  'max_seq_len': 20,\n",
       "  'lstm_cell_size': 256,\n",
       "  'lstm_use_prev_action': False,\n",
       "  'lstm_use_prev_reward': False,\n",
       "  '_time_major': False,\n",
       "  'use_attention': False,\n",
       "  'attention_num_transformer_units': 1,\n",
       "  'attention_dim': 64,\n",
       "  'attention_num_heads': 1,\n",
       "  'attention_head_dim': 32,\n",
       "  'attention_memory_inference': 50,\n",
       "  'attention_memory_training': 50,\n",
       "  'attention_position_wise_mlp_dim': 32,\n",
       "  'attention_init_gru_gate_bias': 2.0,\n",
       "  'num_framestacks': 'auto',\n",
       "  'dim': 84,\n",
       "  'grayscale': False,\n",
       "  'zero_mean': True,\n",
       "  'custom_model': None,\n",
       "  'custom_model_config': {},\n",
       "  'custom_action_dist': None,\n",
       "  'custom_preprocessor': None,\n",
       "  'lstm_use_prev_action_reward': -1,\n",
       "  'framestack': True},\n",
       " 'optimizer': {},\n",
       " 'gamma': 0.99,\n",
       " 'horizon': None,\n",
       " 'soft_horizon': False,\n",
       " 'no_done_at_end': False,\n",
       " 'env_config': {},\n",
       " 'env': None,\n",
       " 'normalize_actions': False,\n",
       " 'clip_rewards': None,\n",
       " 'clip_actions': True,\n",
       " 'preprocessor_pref': 'deepmind',\n",
       " 'lr': 5e-05,\n",
       " 'monitor': False,\n",
       " 'log_level': 'WARN',\n",
       " 'callbacks': ray.rllib.agents.callbacks.DefaultCallbacks,\n",
       " 'ignore_worker_failures': False,\n",
       " 'log_sys_usage': True,\n",
       " 'fake_sampler': False,\n",
       " 'framework': 'tf',\n",
       " 'eager_tracing': False,\n",
       " 'explore': True,\n",
       " 'exploration_config': {'type': 'StochasticSampling'},\n",
       " 'evaluation_interval': None,\n",
       " 'evaluation_num_episodes': 10,\n",
       " 'in_evaluation': False,\n",
       " 'evaluation_config': {},\n",
       " 'evaluation_num_workers': 0,\n",
       " 'custom_eval_function': None,\n",
       " 'sample_async': False,\n",
       " '_use_trajectory_view_api': True,\n",
       " 'sample_collector': ray.rllib.evaluation.collectors.simple_list_collector.SimpleListCollector,\n",
       " 'observation_filter': 'NoFilter',\n",
       " 'synchronize_filters': True,\n",
       " 'tf_session_args': {'intra_op_parallelism_threads': 2,\n",
       "  'inter_op_parallelism_threads': 2,\n",
       "  'gpu_options': {'allow_growth': True},\n",
       "  'log_device_placement': False,\n",
       "  'device_count': {'CPU': 1},\n",
       "  'allow_soft_placement': True},\n",
       " 'local_tf_session_args': {'intra_op_parallelism_threads': 8,\n",
       "  'inter_op_parallelism_threads': 8},\n",
       " 'compress_observations': False,\n",
       " 'collect_metrics_timeout': 180,\n",
       " 'metrics_smoothing_episodes': 100,\n",
       " 'remote_worker_envs': False,\n",
       " 'remote_env_batch_wait_ms': 0,\n",
       " 'min_iter_time_s': 0,\n",
       " 'timesteps_per_iteration': 0,\n",
       " 'seed': None,\n",
       " 'extra_python_environs_for_driver': {},\n",
       " 'extra_python_environs_for_worker': {},\n",
       " 'num_cpus_per_worker': 1,\n",
       " 'num_gpus_per_worker': 0,\n",
       " 'custom_resources_per_worker': {},\n",
       " 'num_cpus_for_driver': 1,\n",
       " 'memory': 0,\n",
       " 'object_store_memory': 0,\n",
       " 'memory_per_worker': 0,\n",
       " 'object_store_memory_per_worker': 0,\n",
       " 'input': 'sampler',\n",
       " 'input_evaluation': ['is', 'wis'],\n",
       " 'postprocess_inputs': False,\n",
       " 'shuffle_buffer_size': 0,\n",
       " 'output': None,\n",
       " 'output_compress_columns': ['obs', 'new_obs'],\n",
       " 'output_max_file_size': 67108864,\n",
       " 'multiagent': {'policies': {},\n",
       "  'policy_mapping_fn': None,\n",
       "  'policies_to_train': None,\n",
       "  'observation_fn': None,\n",
       "  'replay_mode': 'independent',\n",
       "  'count_steps_by': 'env_steps'},\n",
       " 'logger_config': None,\n",
       " 'replay_sequence_length': 1,\n",
       " 'use_critic': True,\n",
       " 'use_gae': True,\n",
       " 'lambda': 1.0,\n",
       " 'kl_coeff': 0.2,\n",
       " 'sgd_minibatch_size': 128,\n",
       " 'shuffle_sequences': True,\n",
       " 'num_sgd_iter': 30,\n",
       " 'lr_schedule': None,\n",
       " 'vf_loss_coeff': 1.0,\n",
       " 'entropy_coeff': 0.0,\n",
       " 'entropy_coeff_schedule': None,\n",
       " 'clip_param': 0.3,\n",
       " 'vf_clip_param': 10.0,\n",
       " 'grad_clip': None,\n",
       " 'kl_target': 0.01,\n",
       " 'simple_optimizer': False,\n",
       " '_fake_gpus': False,\n",
       " 'vf_share_layers': -1}"
      ]
     },
     "execution_count": 14,
     "metadata": {},
     "output_type": "execute_result"
    }
   ],
   "source": [
    "ppo.DEFAULT_CONFIG"
   ]
  },
  {
   "cell_type": "markdown",
   "id": "patent-france",
   "metadata": {},
   "source": [
    "For each iteration, we call result = agent.train() to run the episodes, and then call chkpt_file = agent.save(chkpt_root) to save a checkpoint of the latest policy. Then we print metrics that show how well the learning has progressed. The resulting output should look close to the following:"
   ]
  },
  {
   "cell_type": "code",
   "execution_count": 15,
   "id": "certified-petroleum",
   "metadata": {},
   "outputs": [
    {
     "name": "stdout",
     "output_type": "stream",
     "text": [
      "WARNING:tensorflow:From /home/psanchezlopez/anaconda3/envs/animalai/lib/python3.7/site-packages/ray/rllib/policy/tf_policy.py:928: Variable.load (from tensorflow.python.ops.variables) is deprecated and will be removed in a future version.\n",
      "Instructions for updating:\n",
      "Prefer Variable.assign which has equivalent behavior in 2.X.\n",
      " 1 reward -19.00/  4.40/ 49.00 len 4.00 saved tmp/exa/checkpoint_1/checkpoint-1\n",
      " 2 reward -19.00/  5.50/ 52.00 len 4.00 saved tmp/exa/checkpoint_2/checkpoint-2\n",
      " 3 reward -19.00/  5.89/ 47.00 len 4.00 saved tmp/exa/checkpoint_3/checkpoint-3\n",
      " 4 reward -19.00/  6.02/ 48.00 len 4.00 saved tmp/exa/checkpoint_4/checkpoint-4\n",
      " 5 reward -19.00/  7.30/ 47.00 len 4.00 saved tmp/exa/checkpoint_5/checkpoint-5\n",
      " 6 reward -19.00/  7.31/ 46.00 len 4.00 saved tmp/exa/checkpoint_6/checkpoint-6\n",
      " 7 reward -19.00/  7.61/ 49.00 len 4.00 saved tmp/exa/checkpoint_7/checkpoint-7\n",
      " 8 reward -19.00/  8.28/ 47.00 len 4.00 saved tmp/exa/checkpoint_8/checkpoint-8\n",
      " 9 reward -19.00/  8.14/ 49.00 len 4.00 saved tmp/exa/checkpoint_9/checkpoint-9\n",
      "10 reward -19.00/  9.28/ 50.00 len 4.00 saved tmp/exa/checkpoint_10/checkpoint-10\n",
      "11 reward -19.00/  9.40/ 52.00 len 4.00 saved tmp/exa/checkpoint_11/checkpoint-11\n",
      "12 reward -19.00/ 10.13/ 50.00 len 4.00 saved tmp/exa/checkpoint_12/checkpoint-12\n",
      "13 reward -19.00/  8.97/ 53.00 len 4.00 saved tmp/exa/checkpoint_13/checkpoint-13\n",
      "14 reward -19.00/ 10.20/ 50.00 len 4.00 saved tmp/exa/checkpoint_14/checkpoint-14\n",
      "15 reward -19.00/ 10.25/ 50.00 len 4.00 saved tmp/exa/checkpoint_15/checkpoint-15\n",
      "16 reward -19.00/ 10.44/ 52.00 len 4.00 saved tmp/exa/checkpoint_16/checkpoint-16\n",
      "17 reward -19.00/ 11.05/ 50.00 len 4.00 saved tmp/exa/checkpoint_17/checkpoint-17\n",
      "18 reward -19.00/ 12.24/ 53.00 len 4.00 saved tmp/exa/checkpoint_18/checkpoint-18\n",
      "19 reward -19.00/ 11.97/ 52.00 len 4.00 saved tmp/exa/checkpoint_19/checkpoint-19\n",
      "20 reward -19.00/ 11.42/ 52.00 len 4.00 saved tmp/exa/checkpoint_20/checkpoint-20\n",
      "21 reward -19.00/ 12.81/ 53.00 len 4.00 saved tmp/exa/checkpoint_21/checkpoint-21\n",
      "22 reward -19.00/ 11.92/ 53.00 len 4.00 saved tmp/exa/checkpoint_22/checkpoint-22\n",
      "23 reward -19.00/ 12.96/ 54.00 len 4.00 saved tmp/exa/checkpoint_23/checkpoint-23\n",
      "24 reward -19.00/ 13.29/ 53.00 len 4.00 saved tmp/exa/checkpoint_24/checkpoint-24\n",
      "25 reward -19.00/ 14.00/ 53.00 len 4.00 saved tmp/exa/checkpoint_25/checkpoint-25\n",
      "26 reward -19.00/ 13.46/ 54.00 len 4.00 saved tmp/exa/checkpoint_26/checkpoint-26\n",
      "27 reward -19.00/ 15.68/ 53.00 len 4.00 saved tmp/exa/checkpoint_27/checkpoint-27\n",
      "28 reward -19.00/ 16.30/ 54.00 len 4.00 saved tmp/exa/checkpoint_28/checkpoint-28\n",
      "29 reward -19.00/ 16.38/ 54.00 len 4.00 saved tmp/exa/checkpoint_29/checkpoint-29\n",
      "30 reward -19.00/ 18.17/ 53.00 len 4.00 saved tmp/exa/checkpoint_30/checkpoint-30\n",
      "31 reward -19.00/ 19.48/ 54.00 len 4.00 saved tmp/exa/checkpoint_31/checkpoint-31\n",
      "32 reward -19.00/ 22.79/ 54.00 len 4.00 saved tmp/exa/checkpoint_32/checkpoint-32\n",
      "33 reward -18.00/ 24.32/ 54.00 len 4.00 saved tmp/exa/checkpoint_33/checkpoint-33\n",
      "34 reward -19.00/ 25.60/ 54.00 len 4.00 saved tmp/exa/checkpoint_34/checkpoint-34\n",
      "35 reward -19.00/ 29.43/ 54.00 len 4.00 saved tmp/exa/checkpoint_35/checkpoint-35\n",
      "36 reward -19.00/ 32.15/ 54.00 len 4.00 saved tmp/exa/checkpoint_36/checkpoint-36\n",
      "37 reward -19.00/ 35.92/ 54.00 len 4.00 saved tmp/exa/checkpoint_37/checkpoint-37\n",
      "38 reward -19.00/ 38.91/ 54.00 len 4.00 saved tmp/exa/checkpoint_38/checkpoint-38\n",
      "39 reward -17.00/ 40.74/ 54.00 len 4.00 saved tmp/exa/checkpoint_39/checkpoint-39\n",
      "40 reward -16.00/ 42.47/ 54.00 len 4.00 saved tmp/exa/checkpoint_40/checkpoint-40\n",
      "41 reward -16.00/ 45.60/ 54.00 len 4.00 saved tmp/exa/checkpoint_41/checkpoint-41\n",
      "42 reward -19.00/ 46.65/ 54.00 len 4.00 saved tmp/exa/checkpoint_42/checkpoint-42\n",
      "43 reward -18.00/ 47.51/ 54.00 len 4.00 saved tmp/exa/checkpoint_43/checkpoint-43\n",
      "44 reward -17.00/ 48.68/ 54.00 len 4.00 saved tmp/exa/checkpoint_44/checkpoint-44\n",
      "45 reward -17.00/ 49.16/ 54.00 len 4.00 saved tmp/exa/checkpoint_45/checkpoint-45\n",
      "46 reward -16.00/ 50.17/ 54.00 len 4.00 saved tmp/exa/checkpoint_46/checkpoint-46\n",
      "47 reward -16.00/ 50.03/ 54.00 len 4.00 saved tmp/exa/checkpoint_47/checkpoint-47\n",
      "48 reward -13.00/ 51.65/ 54.00 len 4.00 saved tmp/exa/checkpoint_48/checkpoint-48\n",
      "49 reward  -7.00/ 52.40/ 54.00 len 4.00 saved tmp/exa/checkpoint_49/checkpoint-49\n",
      "50 reward -15.00/ 52.38/ 54.00 len 4.00 saved tmp/exa/checkpoint_50/checkpoint-50\n",
      "51 reward -16.00/ 52.45/ 54.00 len 4.00 saved tmp/exa/checkpoint_51/checkpoint-51\n",
      "52 reward -11.00/ 52.97/ 54.00 len 4.00 saved tmp/exa/checkpoint_52/checkpoint-52\n",
      "53 reward -18.00/ 53.30/ 54.00 len 4.00 saved tmp/exa/checkpoint_53/checkpoint-53\n",
      "54 reward  17.00/ 53.44/ 54.00 len 4.00 saved tmp/exa/checkpoint_54/checkpoint-54\n",
      "55 reward  -9.00/ 53.50/ 54.00 len 4.00 saved tmp/exa/checkpoint_55/checkpoint-55\n",
      "56 reward   5.00/ 53.67/ 54.00 len 4.00 saved tmp/exa/checkpoint_56/checkpoint-56\n",
      "57 reward -19.00/ 53.67/ 54.00 len 4.00 saved tmp/exa/checkpoint_57/checkpoint-57\n",
      "58 reward -11.00/ 53.75/ 54.00 len 4.00 saved tmp/exa/checkpoint_58/checkpoint-58\n",
      "59 reward  47.00/ 53.95/ 54.00 len 4.00 saved tmp/exa/checkpoint_59/checkpoint-59\n",
      "60 reward  15.00/ 53.86/ 54.00 len 4.00 saved tmp/exa/checkpoint_60/checkpoint-60\n",
      "61 reward  46.00/ 53.97/ 54.00 len 4.00 saved tmp/exa/checkpoint_61/checkpoint-61\n",
      "62 reward  50.00/ 53.99/ 54.00 len 4.00 saved tmp/exa/checkpoint_62/checkpoint-62\n",
      "63 reward  38.00/ 53.96/ 54.00 len 4.00 saved tmp/exa/checkpoint_63/checkpoint-63\n",
      "64 reward  50.00/ 53.99/ 54.00 len 4.00 saved tmp/exa/checkpoint_64/checkpoint-64\n",
      "65 reward  52.00/ 53.99/ 54.00 len 4.00 saved tmp/exa/checkpoint_65/checkpoint-65\n",
      "66 reward  53.00/ 54.00/ 54.00 len 4.00 saved tmp/exa/checkpoint_66/checkpoint-66\n",
      "67 reward  28.00/ 53.97/ 54.00 len 4.00 saved tmp/exa/checkpoint_67/checkpoint-67\n",
      "68 reward  22.00/ 53.97/ 54.00 len 4.00 saved tmp/exa/checkpoint_68/checkpoint-68\n",
      "69 reward   1.00/ 53.91/ 54.00 len 4.00 saved tmp/exa/checkpoint_69/checkpoint-69\n",
      "70 reward  54.00/ 54.00/ 54.00 len 4.00 saved tmp/exa/checkpoint_70/checkpoint-70\n",
      "71 reward  52.00/ 54.00/ 54.00 len 4.00 saved tmp/exa/checkpoint_71/checkpoint-71\n",
      "72 reward  48.00/ 53.99/ 54.00 len 4.00 saved tmp/exa/checkpoint_72/checkpoint-72\n",
      "73 reward  38.00/ 53.98/ 54.00 len 4.00 saved tmp/exa/checkpoint_73/checkpoint-73\n",
      "74 reward  54.00/ 54.00/ 54.00 len 4.00 saved tmp/exa/checkpoint_74/checkpoint-74\n",
      "75 reward  53.00/ 54.00/ 54.00 len 4.00 saved tmp/exa/checkpoint_75/checkpoint-75\n",
      "76 reward  54.00/ 54.00/ 54.00 len 4.00 saved tmp/exa/checkpoint_76/checkpoint-76\n",
      "77 reward  54.00/ 54.00/ 54.00 len 4.00 saved tmp/exa/checkpoint_77/checkpoint-77\n",
      "78 reward  39.00/ 53.98/ 54.00 len 4.00 saved tmp/exa/checkpoint_78/checkpoint-78\n",
      "79 reward  29.00/ 53.97/ 54.00 len 4.00 saved tmp/exa/checkpoint_79/checkpoint-79\n",
      "80 reward  54.00/ 54.00/ 54.00 len 4.00 saved tmp/exa/checkpoint_80/checkpoint-80\n",
      "81 reward  48.00/ 53.99/ 54.00 len 4.00 saved tmp/exa/checkpoint_81/checkpoint-81\n",
      "82 reward  54.00/ 54.00/ 54.00 len 4.00 saved tmp/exa/checkpoint_82/checkpoint-82\n",
      "83 reward  53.00/ 53.69/ 54.00 len 4.00 saved tmp/exa/checkpoint_83/checkpoint-83\n",
      "84 reward  44.00/ 53.79/ 54.00 len 4.00 saved tmp/exa/checkpoint_84/checkpoint-84\n",
      "85 reward  12.00/ 53.82/ 54.00 len 4.00 saved tmp/exa/checkpoint_85/checkpoint-85\n",
      "86 reward  53.00/ 53.91/ 54.00 len 4.00 saved tmp/exa/checkpoint_86/checkpoint-86\n",
      "87 reward  37.00/ 53.95/ 54.00 len 4.00 saved tmp/exa/checkpoint_87/checkpoint-87\n",
      "88 reward  15.00/ 53.95/ 54.00 len 4.00 saved tmp/exa/checkpoint_88/checkpoint-88\n",
      "89 reward  53.00/ 53.99/ 54.00 len 4.00 saved tmp/exa/checkpoint_89/checkpoint-89\n",
      "90 reward  51.00/ 53.99/ 54.00 len 4.00 saved tmp/exa/checkpoint_90/checkpoint-90\n",
      "91 reward  53.00/ 54.00/ 54.00 len 4.00 saved tmp/exa/checkpoint_91/checkpoint-91\n",
      "92 reward  53.00/ 54.00/ 54.00 len 4.00 saved tmp/exa/checkpoint_92/checkpoint-92\n",
      "93 reward  50.00/ 54.00/ 54.00 len 4.00 saved tmp/exa/checkpoint_93/checkpoint-93\n",
      "94 reward  18.00/ 53.96/ 54.00 len 4.00 saved tmp/exa/checkpoint_94/checkpoint-94\n",
      "95 reward  54.00/ 54.00/ 54.00 len 4.00 saved tmp/exa/checkpoint_95/checkpoint-95\n",
      "96 reward  53.00/ 54.00/ 54.00 len 4.00 saved tmp/exa/checkpoint_96/checkpoint-96\n",
      "97 reward  54.00/ 54.00/ 54.00 len 4.00 saved tmp/exa/checkpoint_97/checkpoint-97\n"
     ]
    },
    {
     "name": "stdout",
     "output_type": "stream",
     "text": [
      "98 reward  52.00/ 54.00/ 54.00 len 4.00 saved tmp/exa/checkpoint_98/checkpoint-98\n",
      "99 reward  54.00/ 54.00/ 54.00 len 4.00 saved tmp/exa/checkpoint_99/checkpoint-99\n",
      "100 reward  54.00/ 54.00/ 54.00 len 4.00 saved tmp/exa/checkpoint_100/checkpoint-100\n"
     ]
    }
   ],
   "source": [
    "status = \"{:2d} reward {:6.2f}/{:6.2f}/{:6.2f} len {:4.2f} saved {}\"\n",
    "n_iter = 100\n",
    "for n in range(n_iter):\n",
    "    result = agent.train()\n",
    "    chkpt_file = agent.save(chkpt_root)\n",
    "    print(status.format(\n",
    "            n + 1,\n",
    "            result[\"episode_reward_min\"],\n",
    "            result[\"episode_reward_mean\"],\n",
    "            result[\"episode_reward_max\"],\n",
    "            result[\"episode_len_mean\"],\n",
    "            chkpt_file\n",
    "            ))"
   ]
  },
  {
   "cell_type": "code",
   "execution_count": null,
   "id": "chinese-antenna",
   "metadata": {},
   "outputs": [],
   "source": [
    "tensorboard --logdir=$HOME/ray_results"
   ]
  },
  {
   "cell_type": "markdown",
   "id": "developed-agent",
   "metadata": {},
   "source": [
    "# Apply a trained policy in a rollout"
   ]
  },
  {
   "cell_type": "code",
   "execution_count": 16,
   "id": "exterior-morning",
   "metadata": {},
   "outputs": [
    {
     "name": "stderr",
     "output_type": "stream",
     "text": [
      "2021-04-02 20:51:17,398\tINFO trainable.py:372 -- Restored on 192.168.1.48 from checkpoint: tmp/exa/checkpoint_100/checkpoint-100\n",
      "2021-04-02 20:51:17,398\tINFO trainable.py:379 -- Current state after restoring: {'_iteration': 100, '_timesteps_total': None, '_time_total': 5047.39506316185, '_episodes_total': 100000}\n"
     ]
    }
   ],
   "source": [
    "chkpt_root = \"tmp/exa\"\n",
    "chkpt_file = chkpt_root + '/checkpoint_100/checkpoint-100'\n",
    "\n",
    "#restore the latest saved checkpoint for the policy\n",
    "agent.restore(chkpt_file)\n",
    "#create our environment \n",
    "env = gym.make(select_env)\n",
    "#reset its state\n",
    "state = env.reset()"
   ]
  },
  {
   "cell_type": "code",
   "execution_count": 17,
   "id": "christian-nashville",
   "metadata": {},
   "outputs": [
    {
     "name": "stdout",
     "output_type": "stream",
     "text": [
      "cumulative reward 54\n"
     ]
    },
    {
     "data": {
      "image/png": "[encoded data removed]",
      "text/plain": [
       "<Figure size 432x288 with 1 Axes>"
      ]
     },
     "metadata": {
      "needs_background": "light"
     },
     "output_type": "display_data"
    },
    {
     "name": "stdout",
     "output_type": "stream",
     "text": [
      "cumulative reward 54\n"
     ]
    },
    {
     "data": {
      "image/png": "[encoded data removed]",
      "text/plain": [
       "<Figure size 432x288 with 1 Axes>"
      ]
     },
     "metadata": {
      "needs_background": "light"
     },
     "output_type": "display_data"
    },
    {
     "name": "stdout",
     "output_type": "stream",
     "text": [
      "cumulative reward 54\n"
     ]
    },
    {
     "data": {
      "image/png": "[encoded data removed]",
      "text/plain": [
       "<Figure size 432x288 with 1 Axes>"
      ]
     },
     "metadata": {
      "needs_background": "light"
     },
     "output_type": "display_data"
    },
    {
     "name": "stdout",
     "output_type": "stream",
     "text": [
      "cumulative reward 54\n"
     ]
    },
    {
     "data": {
      "image/png": "[encoded data removed]",
      "text/plain": [
       "<Figure size 432x288 with 1 Axes>"
      ]
     },
     "metadata": {
      "needs_background": "light"
     },
     "output_type": "display_data"
    },
    {
     "name": "stdout",
     "output_type": "stream",
     "text": [
      "cumulative reward 54\n"
     ]
    },
    {
     "data": {
      "image/png": "[encoded data removed]",
      "text/plain": [
       "<Figure size 432x288 with 1 Axes>"
      ]
     },
     "metadata": {
      "needs_background": "light"
     },
     "output_type": "display_data"
    }
   ],
   "source": [
    "# Visualize some of the environments created\n",
    "sum_reward = 0\n",
    "n_step = 20\n",
    "for step in range(n_step):\n",
    "    action = agent.compute_action(state)\n",
    "    state, reward, done, info = env.step(action)    \n",
    "    sum_reward += reward\n",
    "    #env.render()    \n",
    "    if done == True:\n",
    "        print(\"cumulative reward\", sum_reward)\n",
    "        visualize(env.image_space) \n",
    "        state = env.reset()\n",
    "        sum_reward = 0"
   ]
  },
  {
   "cell_type": "markdown",
   "id": "imported-female",
   "metadata": {},
   "source": [
    "# Create environment"
   ]
  },
  {
   "cell_type": "code",
   "execution_count": 1,
   "id": "romantic-riverside",
   "metadata": {},
   "outputs": [],
   "source": [
    "from utils import *\n",
    "import gym"
   ]
  },
  {
   "cell_type": "code",
   "execution_count": 2,
   "id": "personal-polls",
   "metadata": {},
   "outputs": [],
   "source": [
    "from ray.tune.registry import register_env\n",
    "from gym_example.envs.adversarial_v1 import Adversarial_v1\n",
    "\n",
    "select_env = \"adversarial-v1\"\n",
    "register_env(select_env, lambda config: Adversarial_v1())"
   ]
  },
  {
   "cell_type": "code",
   "execution_count": 3,
   "id": "experimental-declaration",
   "metadata": {},
   "outputs": [
    {
     "name": "stderr",
     "output_type": "stream",
     "text": [
      "2021-04-02 21:36:44,989\tINFO services.py:1174 -- View the Ray dashboard at \u001b[1m\u001b[32mhttp://127.0.0.1:8265\u001b[39m\u001b[22m\n",
      "2021-04-02 21:36:45,842\tINFO trainer.py:616 -- Tip: set framework=tfe or the --eager flag to enable TensorFlow eager execution\n",
      "2021-04-02 21:36:45,843\tINFO trainer.py:643 -- Current log_level is WARN. For more information, set 'log_level': 'INFO' / 'DEBUG' or use the -v and -vv flags.\n",
      "2021-04-02 21:36:45,923\tWARNING deprecation.py:34 -- DeprecationWarning: `framestack` has been deprecated. Use `num_framestacks (int)` instead. This will raise an error in the future!\n",
      "2021-04-02 21:36:46,954\tWARNING deprecation.py:34 -- DeprecationWarning: `framestack` has been deprecated. Use `num_framestacks (int)` instead. This will raise an error in the future!\n",
      "2021-04-02 21:36:47,838\tWARNING deprecation.py:34 -- DeprecationWarning: `framestack` has been deprecated. Use `num_framestacks (int)` instead. This will raise an error in the future!\n",
      "2021-04-02 21:36:50,875\tWARNING util.py:47 -- Install gputil for GPU system monitoring.\n"
     ]
    }
   ],
   "source": [
    "import ray\n",
    "\n",
    "ray.init(ignore_reinit_error=True, local_mode=True)\n",
    "\n",
    "import ray.rllib.agents.ppo as ppo\n",
    "\n",
    "config = ppo.DEFAULT_CONFIG.copy()\n",
    "\n",
    "config[\"log_level\"] = \"WARN\"\n",
    "agent = ppo.PPOTrainer(config, env=select_env)"
   ]
  },
  {
   "cell_type": "code",
   "execution_count": 4,
   "id": "pregnant-escape",
   "metadata": {},
   "outputs": [
    {
     "name": "stderr",
     "output_type": "stream",
     "text": [
      "2021-04-02 21:36:51,201\tINFO trainable.py:372 -- Restored on 192.168.1.48 from checkpoint: tmp/exa/checkpoint_100/checkpoint-100\n",
      "2021-04-02 21:36:51,202\tINFO trainable.py:379 -- Current state after restoring: {'_iteration': 100, '_timesteps_total': None, '_time_total': 5047.39506316185, '_episodes_total': 100000}\n"
     ]
    }
   ],
   "source": [
    "chkpt_root = \"tmp/exa\"\n",
    "chkpt_file = chkpt_root + '/checkpoint_100/checkpoint-100'\n",
    "\n",
    "#restore the latest saved checkpoint for the policy\n",
    "agent.restore(chkpt_file)\n",
    "#create our environment \n",
    "env = gym.make(select_env)\n",
    "#reset its state\n",
    "state = env.reset()\n",
    "\n",
    "sum_reward = 0\n",
    "n_step = 3\n",
    "for step in range(n_step):\n",
    "    action = agent.compute_action(state)\n",
    "    state, reward, done, info = env.step(action)    \n",
    "    sum_reward += reward\n",
    "    #env.render()    \n",
    "    if done == True:\n",
    "        print(\"cumulative reward\", sum_reward)\n",
    "        visualize(env.image_space) \n",
    "        state = env.reset()\n",
    "        sum_reward = 0"
   ]
  },
  {
   "cell_type": "code",
   "execution_count": 5,
   "id": "inside-netscape",
   "metadata": {},
   "outputs": [
    {
     "data": {
      "image/png": "[encoded data removed]",
      "text/plain": [
       "<Figure size 432x288 with 1 Axes>"
      ]
     },
     "metadata": {
      "needs_background": "light"
     },
     "output_type": "display_data"
    }
   ],
   "source": [
    "visualize(env.image_space) "
   ]
  },
  {
   "cell_type": "code",
   "execution_count": 6,
   "id": "designed-chocolate",
   "metadata": {},
   "outputs": [
    {
     "data": {
      "text/plain": [
       "array([[0., 0., 0., ..., 0., 0., 0.],\n",
       "       [0., 0., 0., ..., 0., 1., 0.],\n",
       "       [0., 0., 0., ..., 0., 0., 0.],\n",
       "       ...,\n",
       "       [0., 0., 0., ..., 0., 0., 0.],\n",
       "       [0., 2., 0., ..., 0., 0., 0.],\n",
       "       [0., 0., 0., ..., 0., 0., 0.]])"
      ]
     },
     "execution_count": 6,
     "metadata": {},
     "output_type": "execute_result"
    }
   ],
   "source": [
    "# padd with zeroes\n",
    "\n",
    "matrix = np.zeros((40, 40))\n",
    "# actually you can also use result = np.zeros_like(b) \n",
    "# but that also copies the dtype not only the shape\n",
    "\n",
    "matrix[1:39,1:39] = env.image_space\n",
    "matrix"
   ]
  },
  {
   "cell_type": "code",
   "execution_count": 7,
   "id": "photographic-alcohol",
   "metadata": {},
   "outputs": [],
   "source": [
    "my_config = matrix2arena(matrix)\n",
    "#my_config.to_proto()"
   ]
  },
  {
   "cell_type": "code",
   "execution_count": 8,
   "id": "transsexual-arrow",
   "metadata": {},
   "outputs": [],
   "source": [
    "# visualize evironment just created\n",
    "\n",
    "try:\n",
    "    environment = AnimalAIEnvironment(\n",
    "            file_name='../env/AnimalAI',\n",
    "            base_port=5007,\n",
    "            arenas_configurations=my_config,\n",
    "            play=True,\n",
    "            worker_id = 5,\n",
    "        )\n",
    "except UnityCommunicationException:\n",
    "    # you'll end up here if you close the environment window directly\n",
    "    # always try to close it from script\n",
    "    environment.close()"
   ]
  },
  {
   "cell_type": "code",
   "execution_count": 9,
   "id": "dietary-lighting",
   "metadata": {},
   "outputs": [],
   "source": [
    "if environment:\n",
    "    environment.close() # takes a few seconds"
   ]
  },
  {
   "cell_type": "markdown",
   "id": "pacific-gibson",
   "metadata": {},
   "source": [
    "# Train Protagonist on this environment"
   ]
  },
  {
   "cell_type": "code",
   "execution_count": 10,
   "id": "warming-crash",
   "metadata": {},
   "outputs": [],
   "source": [
    "trainer_config_path = (\n",
    "    \"../configurations/training_configurations/train_ml_agents_config_ppo_10fs.yaml\"\n",
    ")\n",
    "reset_trainer(trainer_config_path, steps=1.0e4)"
   ]
  },
  {
   "cell_type": "code",
   "execution_count": 11,
   "id": "still-affiliate",
   "metadata": {},
   "outputs": [
    {
     "name": "stdout",
     "output_type": "stream",
     "text": [
      "Converting ./models/protagonist/AnimalAI/frozen_graph_def.pb to ./models/protagonist/AnimalAI.nn\n",
      "GLOBALS: 'is_continuous_control', 'version_number', 'memory_size', 'action_output_shape'\n",
      "IN: 'visual_observation_0': [-1, 84, 84, 3] => 'policy/main_graph_0_encoder0/conv_1/BiasAdd'\n",
      "IN: 'vector_observation': [-1, 1, 1, 3] => 'policy/main_graph_0/hidden_0/BiasAdd'\n",
      "IN: 'action_masks': [-1, 1, 1, 6] => 'policy_1/strided_slice'\n",
      "IN: 'action_masks': [-1, 1, 1, 6] => 'policy_1/strided_slice_1'\n",
      "OUT: 'policy/concat/concat', 'action'\n",
      "DONE: wrote ./models/protagonist/AnimalAI.nn file.\n",
      "PROTAGONIST: \n",
      "Steps:  10000  Cumulative reward:  -0.9999999310821296  Episode Length:  248.0\n",
      "Steps:  10000  Cumulative reward:  -0.9999999310821296  Episode Length:  248.0\n",
      "Steps:  10000  Cumulative reward:  -0.9999999310821296  Episode Length:  248.0\n"
     ]
    }
   ],
   "source": [
    "reward = train_protagonist(arena_config=my_config, trainer_config_path=trainer_config_path, base_port_protagonist=6002, load_model=False)"
   ]
  },
  {
   "cell_type": "code",
   "execution_count": 8,
   "id": "outside-travel",
   "metadata": {},
   "outputs": [],
   "source": [
    "from animalai.envs.environment import AnimalAIEnvironment\n",
    "from mlagents_envs.exception import UnityCommunicationException\n",
    "\n",
    "import warnings\n",
    "warnings.filterwarnings('ignore')\n",
    "import tensorflow as tf\n",
    "tf.compat.v1.logging.set_verbosity(tf.compat.v1.logging.ERROR)\n",
    "\n",
    "from mlagents.trainers.trainer_util import load_config;\n",
    "from animalai_train.run_options_aai import RunOptionsAAI;\n",
    "from animalai_train.run_training_aai import run_training_aai;\n",
    "\n",
    "import os\n",
    "import pandas as pd"
   ]
  },
  {
   "cell_type": "code",
   "execution_count": 9,
   "id": "weighted-railway",
   "metadata": {},
   "outputs": [],
   "source": [
    "def update_trainer(trainer_config_path, steps_add=1.0e5):\n",
    "    with open(trainer_config_path) as f:\n",
    "         list_doc = yaml.load(f)\n",
    "\n",
    "    #list_doc['AnimalAI']['max_steps']  = 1.0e5\n",
    "    list_doc['AnimalAI']['max_steps'] = float(list_doc['AnimalAI']['max_steps']) + steps_add\n",
    "\n",
    "    with open(trainer_config_path, \"w\") as f:\n",
    "        yaml.dump(list_doc, f)"
   ]
  },
  {
   "cell_type": "code",
   "execution_count": 10,
   "id": "unlikely-editor",
   "metadata": {},
   "outputs": [],
   "source": [
    "def reset_trainer(trainer_config_path, steps=1.0e4):\n",
    "    with open(trainer_config_path) as f:\n",
    "         list_doc = yaml.load(f)\n",
    "\n",
    "    #list_doc['AnimalAI']['max_steps']  = 1.0e5\n",
    "    list_doc['AnimalAI']['max_steps'] = steps\n",
    "\n",
    "    with open(trainer_config_path, \"w\") as f:\n",
    "        yaml.dump(list_doc, f)"
   ]
  },
  {
   "cell_type": "code",
   "execution_count": 11,
   "id": "corporate-domain",
   "metadata": {},
   "outputs": [],
   "source": [
    "# define configurations\n",
    "trainer_config_path = (\n",
    "    \"../configurations/training_configurations/train_ml_agents_config_ppo_10fs.yaml\"\n",
    ")\n",
    "environment_path = \"../env/AnimalAI\"\n",
    "run_id_protagonist = \"protagonist\"\n",
    "base_port_protagonist = 5005\n",
    "logs_dir = \"summaries/\"\n",
    "os.makedirs(logs_dir, exist_ok=True)"
   ]
  },
  {
   "cell_type": "code",
   "execution_count": 12,
   "id": "protective-history",
   "metadata": {},
   "outputs": [
    {
     "name": "stdout",
     "output_type": "stream",
     "text": [
      "AnimalAI:\n",
      "  batch_size: 64\n",
      "  beta: 0.01\n",
      "  buffer_size: 2024\n",
      "  epsilon: 0.2\n",
      "  hidden_units: 256\n",
      "  lambd: 0.95\n",
      "  learning_rate: 0.0003\n",
      "  learning_rate_schedule: linear\n",
      "  max_steps: 10000.0\n",
      "  memory_size: 128\n",
      "  normalize: false\n",
      "  num_epoch: 3\n",
      "  num_layers: 1\n",
      "  reward_signals:\n",
      "    curiosity:\n",
      "      encoding_size: 256\n",
      "      gamma: 0.99\n",
      "      strength: 0.01\n",
      "    extrinsic:\n",
      "      gamma: 0.99\n",
      "      strength: 1.0\n",
      "  sequence_length: 64\n",
      "  summary_freq: 10000\n",
      "  time_horizon: 128\n",
      "  trainer: ppo\n",
      "  use_recurrent: false\n",
      "  vis_encode_type: simple\n",
      "\n"
     ]
    }
   ],
   "source": [
    "reset_trainer(trainer_config_path)\n",
    "with open(trainer_config_path) as f:\n",
    "    print(f.read())"
   ]
  },
  {
   "cell_type": "code",
   "execution_count": 53,
   "id": "specialized-palestinian",
   "metadata": {},
   "outputs": [
    {
     "name": "stdout",
     "output_type": "stream",
     "text": [
      "Converting ./models/protagonist/AnimalAI/frozen_graph_def.pb to ./models/protagonist/AnimalAI.nn\n",
      "GLOBALS: 'is_continuous_control', 'version_number', 'memory_size', 'action_output_shape'\n",
      "IN: 'visual_observation_0': [-1, 84, 84, 3] => 'policy/main_graph_0_encoder0/conv_1/BiasAdd'\n",
      "IN: 'vector_observation': [-1, 1, 1, 3] => 'policy/main_graph_0/hidden_0/BiasAdd'\n",
      "IN: 'action_masks': [-1, 1, 1, 6] => 'policy_1/strided_slice'\n",
      "IN: 'action_masks': [-1, 1, 1, 6] => 'policy_1/strided_slice_1'\n",
      "OUT: 'policy/concat/concat', 'action'\n",
      "DONE: wrote ./models/protagonist/AnimalAI.nn file.\n",
      "The tensorboard extension is already loaded. To reload it, use:\n",
      "  %reload_ext tensorboard\n"
     ]
    },
    {
     "data": {
      "text/plain": [
       "Reusing TensorBoard on port 6006 (pid 71664), started 0:07:28 ago. (Use '!kill 71664' to kill it.)"
      ]
     },
     "metadata": {},
     "output_type": "display_data"
    },
    {
     "data": {
      "text/html": [
       "\n",
       "      <iframe id=\"tensorboard-frame-59f485d1a7ad9f29\" width=\"100%\" height=\"800\" frameborder=\"0\">\n",
       "      </iframe>\n",
       "      <script>\n",
       "        (function() {\n",
       "          const frame = document.getElementById(\"tensorboard-frame-59f485d1a7ad9f29\");\n",
       "          const url = new URL(\"/\", window.location);\n",
       "          url.port = 6006;\n",
       "          frame.src = url;\n",
       "        })();\n",
       "      </script>\n",
       "  "
      ],
      "text/plain": [
       "<IPython.core.display.HTML object>"
      ]
     },
     "metadata": {},
     "output_type": "display_data"
    }
   ],
   "source": [
    "args = RunOptionsAAI(\n",
    "        trainer_config=load_config(trainer_config_path),\n",
    "        env_path=environment_path,\n",
    "        run_id=run_id_protagonist,\n",
    "        base_port=base_port_protagonist + 1,\n",
    "        load_model=False,\n",
    "        train_model=True,\n",
    "        arena_config=my_config \n",
    "    )\n",
    "run_training_aai(0, args)\n",
    "%load_ext tensorboard\n",
    "%tensorboard --logdir {logs_dir}"
   ]
  },
  {
   "cell_type": "code",
   "execution_count": 54,
   "id": "enhanced-youth",
   "metadata": {},
   "outputs": [
    {
     "name": "stdout",
     "output_type": "stream",
     "text": [
      "PROTAGONIST: \n",
      "Steps:  10000  Cumulative reward:  -0.9999999310821296  Episode Length:  248.0\n",
      "Steps:  10000  Cumulative reward:  -0.9999999310821296  Episode Length:  248.0\n",
      "Steps:  10000  Cumulative reward:  -0.9999999310821296  Episode Length:  248.0\n"
     ]
    }
   ],
   "source": [
    "data_path = 'summaries/protagonist_AnimalAI.csv'\n",
    "df = pd.read_csv(data_path)\n",
    "print('PROTAGONIST: ')\n",
    "print('Steps: ', df.loc[0, 'Steps'], ' Cumulative reward: ', df.loc[0, 'Environment/Cumulative Reward'], \\\n",
    " ' Episode Length: ', df.loc[0, 'Environment/Episode Length'])\n",
    "print('Steps: ', df.loc[int(len(df)/2), 'Steps'], ' Cumulative reward: ', df.loc[int(len(df)/2), 'Environment/Cumulative Reward'], \\\n",
    "     ' Episode Length: ', df.loc[int(len(df)/2), 'Environment/Episode Length'])\n",
    "print('Steps: ', df.loc[len(df)-1, 'Steps'], ' Cumulative reward: ', df.loc[len(df)-1, 'Environment/Cumulative Reward'], \\\n",
    "     ' Episode Length: ', df.loc[len(df)-1, 'Environment/Episode Length'])"
   ]
  },
  {
   "cell_type": "code",
   "execution_count": 13,
   "id": "tamil-scope",
   "metadata": {},
   "outputs": [],
   "source": [
    "def train_protagonist(arena_config, trainer_config_path, base_port_protagonist = 5005, run_id_protagonist = \"protagonist\", load_model = True):\n",
    "    \n",
    "    environment_path = \"../env/AnimalAI\"\n",
    "    logs_dir = \"summaries/\"\n",
    "    \n",
    "    args = RunOptionsAAI(\n",
    "        trainer_config=load_config(trainer_config_path),\n",
    "        env_path=environment_path,\n",
    "        run_id=run_id_protagonist,\n",
    "        base_port=base_port_protagonist,\n",
    "        load_model=load_model,\n",
    "        train_model=True,\n",
    "        arena_config=my_config \n",
    "    )\n",
    "    run_training_aai(0, args)\n",
    "    \n",
    "    data_path = 'summaries/' + run_id_protagonist + '_AnimalAI.csv'\n",
    "    df = pd.read_csv(data_path)\n",
    "    print('PROTAGONIST: ')\n",
    "    print('Steps: ', df.loc[0, 'Steps'], ' Cumulative reward: ', df.loc[0, 'Environment/Cumulative Reward'], \\\n",
    "     ' Episode Length: ', df.loc[0, 'Environment/Episode Length'])\n",
    "    print('Steps: ', df.loc[int(len(df)/2), 'Steps'], ' Cumulative reward: ', df.loc[int(len(df)/2), 'Environment/Cumulative Reward'], \\\n",
    "         ' Episode Length: ', df.loc[int(len(df)/2), 'Environment/Episode Length'])\n",
    "    print('Steps: ', df.loc[len(df)-1, 'Steps'], ' Cumulative reward: ', df.loc[len(df)-1, 'Environment/Cumulative Reward'], \\\n",
    "         ' Episode Length: ', df.loc[len(df)-1, 'Environment/Episode Length'])\n",
    "    \n",
    "    return df.loc[len(df)-1, 'Environment/Cumulative Reward']\n",
    "    "
   ]
  },
  {
   "cell_type": "code",
   "execution_count": 14,
   "id": "important-scientist",
   "metadata": {},
   "outputs": [
    {
     "name": "stdout",
     "output_type": "stream",
     "text": [
      "Converting ./models/protagonist/AnimalAI/frozen_graph_def.pb to ./models/protagonist/AnimalAI.nn\n",
      "GLOBALS: 'is_continuous_control', 'version_number', 'memory_size', 'action_output_shape'\n",
      "IN: 'visual_observation_0': [-1, 84, 84, 3] => 'policy/main_graph_0_encoder0/conv_1/BiasAdd'\n",
      "IN: 'vector_observation': [-1, 1, 1, 3] => 'policy/main_graph_0/hidden_0/BiasAdd'\n",
      "IN: 'action_masks': [-1, 1, 1, 6] => 'policy_1/strided_slice'\n",
      "IN: 'action_masks': [-1, 1, 1, 6] => 'policy_1/strided_slice_1'\n",
      "OUT: 'policy/concat/concat', 'action'\n",
      "DONE: wrote ./models/protagonist/AnimalAI.nn file.\n",
      "PROTAGONIST: \n",
      "Steps:  10000  Cumulative reward:  -0.9999999310821296  Episode Length:  248.0\n",
      "Steps:  10000  Cumulative reward:  -0.9999999310821296  Episode Length:  248.0\n",
      "Steps:  10000  Cumulative reward:  -0.9999999310821296  Episode Length:  248.0\n"
     ]
    }
   ],
   "source": [
    "reward = train_protagonist(arena_config=my_config, base_port_protagonist=6002, load_model=False)"
   ]
  },
  {
   "cell_type": "code",
   "execution_count": 17,
   "id": "located-assurance",
   "metadata": {},
   "outputs": [
    {
     "data": {
      "text/plain": [
       "-0.9999999310821296"
      ]
     },
     "execution_count": 17,
     "metadata": {},
     "output_type": "execute_result"
    }
   ],
   "source": [
    "reward"
   ]
  },
  {
   "cell_type": "code",
   "execution_count": null,
   "id": "attended-incident",
   "metadata": {},
   "outputs": [],
   "source": []
  }
 ],
 "metadata": {
  "kernelspec": {
   "display_name": "Python 3",
   "language": "python",
   "name": "python3"
  },
  "language_info": {
   "codemirror_mode": {
    "name": "ipython",
    "version": 3
   },
   "file_extension": ".py",
   "mimetype": "text/x-python",
   "name": "python",
   "nbconvert_exporter": "python",
   "pygments_lexer": "ipython3",
   "version": "3.7.10"
  }
 },
 "nbformat": 4,
 "nbformat_minor": 5
}
