{
 "cells": [
  {
   "cell_type": "code",
   "execution_count": 18,
   "id": "novel-sellers",
   "metadata": {},
   "outputs": [],
   "source": [
    "from animalai.envs.arena_config import Vector3, RGB, Item, Arena, ArenaConfig\n",
    "from animalai.envs.environment import AnimalAIEnvironment\n",
    "from mlagents_envs.exception import UnityCommunicationException\n",
    "\n",
    "from typing import List\n",
    "from animalai.communicator_objects import (\n",
    "    ArenasConfigurationsProto,\n",
    "    ArenaConfigurationProto,\n",
    "    ItemToSpawnProto,\n",
    "    VectorProto,\n",
    ")\n",
    "\n",
    "from typing import List\n",
    "import yaml\n",
    "import numpy as np\n",
    "import matplotlib.pyplot as plt\n",
    "import matplotlib.patches as mpatches\n",
    "\n",
    "import networkx as nx\n",
    "from networkx import grid_graph"
   ]
  },
  {
   "cell_type": "markdown",
   "id": "handled-crawford",
   "metadata": {},
   "source": [
    "# Notebook to go from a matrix to an AnimalAI environment\n",
    "In this notebook we just play with how the AnimalAI environments are created, and we design functions to go from a AnimalAI environment to a numpy matrix and viceversa."
   ]
  },
  {
   "cell_type": "code",
   "execution_count": 19,
   "id": "incoming-maximum",
   "metadata": {},
   "outputs": [],
   "source": [
    "## We redefine the class ArenaConfig to MyArenaConfig so instead of reading a .yaml file.\n",
    "## it reads the arena object we create\n",
    "\n",
    "class MyArenaConfig(yaml.YAMLObject):\n",
    "    yaml_tag = u\"!ArenaConfig\"\n",
    "\n",
    "    def __init__(self, my_arena: Arena = None):\n",
    "\n",
    "        self.arenas = {-1: my_arena}\n",
    "\n",
    "    def to_proto(self, seed: int = -1) -> ArenasConfigurationsProto:\n",
    "        arenas_configurations_proto = ArenasConfigurationsProto()\n",
    "        arenas_configurations_proto.seed = seed\n",
    "\n",
    "        for k in self.arenas:\n",
    "            arenas_configurations_proto.arenas[k].CopyFrom(self.arenas[k].to_proto())\n",
    "\n",
    "        return arenas_configurations_proto"
   ]
  },
  {
   "cell_type": "code",
   "execution_count": null,
   "id": "hourly-budapest",
   "metadata": {},
   "outputs": [],
   "source": [
    "## For simplicity, we only modify the position of the goal (position of agent is fixed)\n",
    "\n",
    "def create_arena(x, y):\n",
    "    '''\n",
    "    Create an arena with only one agent and one goal.\n",
    "    :param x: float. x position goal\n",
    "    :param x: float. y position goal\n",
    "    '''\n",
    "    \n",
    "    # Create agent\n",
    "    position_agent = Vector3(x = 20, y = 0, z = 20)\n",
    "    rotation_agent = 0\n",
    "    agent = Item(name = 'Agent', positions = [position_agent], rotations = [rotation_agent])\n",
    "\n",
    "    # Create the goal\n",
    "    position_goal = Vector3(x = x, y = 0, z = y)\n",
    "    sizes_goal = Vector3(x = 1, y = 1, z = 1)\n",
    "    goal = Item(name = 'GoodGoal', positions = [position_goal], sizes = [sizes_goal])\n",
    "\n",
    "    # Define list of items\n",
    "    items = [agent, goal]\n",
    "\n",
    "    # Create Arena\n",
    "    my_arena = Arena(t=250, items=items, pass_mark = 0, blackouts = None)\n",
    "\n",
    "    # create arena configuration\n",
    "    my_config = MyArenaConfig(my_arena)\n",
    "    \n",
    "    return my_config"
   ]
  },
  {
   "cell_type": "markdown",
   "id": "limited-eligibility",
   "metadata": {},
   "source": [
    "## 1. Generate matrix from arena"
   ]
  },
  {
   "cell_type": "code",
   "execution_count": null,
   "id": "hindu-pixel",
   "metadata": {},
   "outputs": [],
   "source": [
    "my_arena = create_arena(x=39, y=2)"
   ]
  },
  {
   "cell_type": "code",
   "execution_count": null,
   "id": "comic-warrant",
   "metadata": {},
   "outputs": [],
   "source": [
    "def matrix_from_arena(my_arena):\n",
    "\n",
    "    for k in my_arena.arenas:\n",
    "        item_types = []\n",
    "        item_types_value = []\n",
    "        arena_m = np.zeros((40, 40)) - 1\n",
    "        for (i, item) in enumerate(my_arena.arenas[k].items):\n",
    "            # save each type of item\n",
    "            item_types.append(item.name)\n",
    "            item_types_value.append(i)\n",
    "            # positions (in case one item takes more than one position)\n",
    "            for (p, pos) in enumerate(item.positions):\n",
    "                x = pos.x\n",
    "                y = pos.z\n",
    "                if item.sizes:\n",
    "                    # if we have the size of the item\n",
    "                    x_size = item.sizes[p].x\n",
    "                    y_size = item.sizes[p].z\n",
    "\n",
    "                    # where the item starts and ends\n",
    "                    if x_size > 1:\n",
    "                        start_x = x - int(x_size/2)\n",
    "                        end_x = x + int(x_size/2)\n",
    "                    else:\n",
    "                        start_x = x\n",
    "                        end_x = x\n",
    "                    if y_size > 1:\n",
    "                        start_y = y - int(y_size/2)\n",
    "                        end_y = y + int(y_size/2)\n",
    "                    else:\n",
    "                        start_y = y\n",
    "                        end_y = y\n",
    "\n",
    "                    # paint figure\n",
    "                    for x_ in range(start_x, end_x+1):\n",
    "                        for y_ in range(start_y, end_y+1):\n",
    "                            arena_m[x_, y_] = i\n",
    "                else:\n",
    "                    arena_m[x, y] = i\n",
    "\n",
    "        fig = plt.imshow(arena_m, cmap=plt.get_cmap('Accent'))\n",
    "\n",
    "        items = np.concatenate((['Arena'], item_types))\n",
    "\n",
    "        # unique values\n",
    "        values = np.unique(arena_m.ravel())\n",
    "        # colormap used by imshow\n",
    "        colors = [fig.cmap(fig.norm(value)) for value in values]\n",
    "        # create a patch (proxy artist) for every color \n",
    "        patches = [mpatches.Patch(color=colors[i], label=\"{l}\".format(l=items[i]) ) for i in range(len(values)) ]\n",
    "        # put those patched as legend-handles into the legend\n",
    "        plt.legend(handles=patches, bbox_to_anchor=(1.05, 1), loc=2, borderaxespad=0. )\n",
    "\n",
    "        plt.grid(False)\n",
    "        plt.show()\n",
    "        \n",
    "        return arena_m"
   ]
  },
  {
   "cell_type": "code",
   "execution_count": null,
   "id": "novel-hurricane",
   "metadata": {},
   "outputs": [],
   "source": [
    "my_arena = ArenaConfig('../configurations/arena_configurations/cylinder_task.yml')\n",
    "arena_m = matrix_from_arena(my_arena)"
   ]
  },
  {
   "cell_type": "code",
   "execution_count": null,
   "id": "urban-celebration",
   "metadata": {},
   "outputs": [],
   "source": [
    "my_arena = ArenaConfig('../configurations/curriculum/2.yml')\n",
    "matrix_from_arena(my_arena)"
   ]
  },
  {
   "cell_type": "markdown",
   "id": "outstanding-flight",
   "metadata": {},
   "source": [
    "## 2. Add item to an existing arena"
   ]
  },
  {
   "cell_type": "code",
   "execution_count": null,
   "id": "noble-firewall",
   "metadata": {},
   "outputs": [],
   "source": [
    "def update_arena(old_arena, new_item):\n",
    "    # we add the new item\n",
    "    old_arena.items.append(new_item)\n",
    "\n",
    "    # save the model in a arena and create new config\n",
    "    new_arena = Arena(t=old_arena.t, items=old_arena.items, pass_mark = old_arena.pass_mark, blackouts = None)\n",
    "    \n",
    "    return new_arena"
   ]
  },
  {
   "cell_type": "code",
   "execution_count": null,
   "id": "incident-wesley",
   "metadata": {},
   "outputs": [],
   "source": [
    "def create_wall(position = [2, 0, 20], size = [1, 1, 1]):\n",
    "    '''\n",
    "    Given the position and the size of the wall, it creates the item\n",
    "    '''\n",
    "    \n",
    "    # create new item: wall\n",
    "    position_wall = Vector3(x = position[0], y = position[1], z = position[2])\n",
    "    sizes_wall = Vector3(x = size[0], y = size[1], z = size[2])\n",
    "    \n",
    "    return Item(name = 'Wall', positions = [position_wall], sizes = [sizes_wall])"
   ]
  },
  {
   "cell_type": "code",
   "execution_count": null,
   "id": "deadly-float",
   "metadata": {},
   "outputs": [],
   "source": [
    "# Create Arena\n",
    "my_arena = ArenaConfig('../configurations/curriculum/2.yml')\n",
    "\n",
    "print('Old Arena')\n",
    "matrix_from_arena(my_arena)\n",
    "\n",
    "# save old arena\n",
    "old_arena = my_arena.arenas[-1]\n",
    "\n",
    "# create wall\n",
    "wall = create_wall(position = [2, 0, 10], size = [5, 1, 10])\n",
    "\n",
    "# update\n",
    "new_arena = update_arena(old_arena, new_item=wall)\n",
    "new_arena = MyArenaConfig(new_arena)\n",
    "\n",
    "print('New Arena')\n",
    "matrix_from_arena(new_arena)"
   ]
  },
  {
   "cell_type": "markdown",
   "id": "underlying-upgrade",
   "metadata": {},
   "source": [
    "## 3. Go from matrix to AnimalAI arena"
   ]
  },
  {
   "cell_type": "code",
   "execution_count": 20,
   "id": "seventh-garden",
   "metadata": {},
   "outputs": [
    {
     "data": {
      "text/plain": [
       "array([[0., 0., 0., ..., 0., 0., 0.],\n",
       "       [0., 0., 0., ..., 0., 0., 0.],\n",
       "       [0., 0., 0., ..., 0., 0., 0.],\n",
       "       ...,\n",
       "       [0., 0., 0., ..., 0., 0., 0.],\n",
       "       [0., 0., 0., ..., 0., 0., 0.],\n",
       "       [0., 0., 0., ..., 0., 0., 0.]])"
      ]
     },
     "execution_count": 20,
     "metadata": {},
     "output_type": "execute_result"
    }
   ],
   "source": [
    "# generate example of matrix with 1 agent (value:1), 1 goal (value:2) and 1 wall (value:3)\n",
    "# background arena value is 0\n",
    "matrix = np.zeros((40,40))\n",
    "matrix[1, 15] = 1\n",
    "matrix[1, 25] = 2\n",
    "matrix[25, 35] = 3\n",
    "matrix[10, 12] = 3\n",
    "matrix"
   ]
  },
  {
   "cell_type": "code",
   "execution_count": 31,
   "id": "cheap-location",
   "metadata": {},
   "outputs": [],
   "source": [
    "# get agent position\n",
    "position = np.where(matrix==1)\n",
    "position_goal = Vector3(x = position[0][0], y = 0, z = position[1][0])\n",
    "sizes_goal = Vector3(x = 2, y = 2, z = 2)\n",
    "goal = Item(name = 'GoodGoal', positions = [position_goal], sizes = [sizes_goal])\n",
    "\n",
    "position = np.where(matrix==2)\n",
    "position_agent = Vector3(x = position[0][0], y = 0, z = position[1][0])\n",
    "agent = Item(name = 'Agent', positions = [position_agent], rotations = [0])\n",
    "\n",
    "\n",
    "position = np.where(matrix==3)\n",
    "position_wall= Vector3(x = position[0][0], y = 0, z = position[1][0])\n",
    "sizes_wall = Vector3(x = 2, y = 2, z = 2)\n",
    "color_wall = RGB(r = 200, g = 0, b = 4)\n",
    "wall = Item(name = 'Wall', positions = [position_wall], sizes = [sizes_wall], colors = [color_wall])\n",
    "\n",
    "# Define list of items\n",
    "items = [agent, goal, wall]\n",
    "\n",
    "# Create Arena\n",
    "my_arena = Arena(t=250, items=items, pass_mark = 0, blackouts = None)\n",
    "my_config = MyArenaConfig(my_arena)"
   ]
  },
  {
   "cell_type": "code",
   "execution_count": null,
   "id": "organic-seating",
   "metadata": {},
   "outputs": [],
   "source": [
    "len(np.where(matrix == 3))"
   ]
  },
  {
   "cell_type": "code",
   "execution_count": null,
   "id": "international-climate",
   "metadata": {},
   "outputs": [],
   "source": [
    "def matrix2arena(matrix):\n",
    "    '''Given an input numpy matrix of the arena image, it create an AnimalAI environment configuration.\n",
    "    Matrix values --> 0: arena, 1: goal, 2: agent, 3: wall'''\n",
    "    if matrix.shape != (40, 40):\n",
    "        print('Input matrix should have shape 40x40')\n",
    "        return \n",
    "    \n",
    "    items = []\n",
    "    \n",
    "    position = np.where(matrix==1)\n",
    "    position_goal = Vector3(x = position[0][0], y = 0, z = position[1][0])\n",
    "    sizes_goal = Vector3(x = 2, y = 2, z = 2)\n",
    "    goal = Item(name = 'GoodGoal', positions = [position_goal], sizes = [sizes_goal])\n",
    "    items.append(goal)\n",
    "\n",
    "    position = np.where(matrix==2)\n",
    "    position_agent = Vector3(x = position[0][0], y = 0, z = position[1][0])\n",
    "    agent = Item(name = 'Agent', positions = [position_agent])\n",
    "    items.append(agent)\n",
    "\n",
    "    position = np.where(matrix==3)\n",
    "    for i in range(len(position)):\n",
    "        position_wall= Vector3(x = position[0][i], y = 0, z = position[1][i])\n",
    "        sizes_wall = Vector3(x = 2, y = 2, z = 2)\n",
    "        wall = Item(name = 'Wall', positions = [position_wall], sizes = [sizes_wall])\n",
    "        items.append(wall)\n",
    "\n",
    "    # Create Arena\n",
    "    my_arena = Arena(t=250, items=items, pass_mark = 0, blackouts = None)\n",
    "    my_config = MyArenaConfig(my_arena)\n",
    "        \n",
    "    \n",
    "    return my_config"
   ]
  },
  {
   "cell_type": "code",
   "execution_count": null,
   "id": "intimate-layer",
   "metadata": {},
   "outputs": [],
   "source": [
    "my_config = matrix2arena(matrix)"
   ]
  },
  {
   "cell_type": "code",
   "execution_count": null,
   "id": "handmade-bundle",
   "metadata": {},
   "outputs": [],
   "source": [
    "my_config.to_proto()"
   ]
  },
  {
   "cell_type": "code",
   "execution_count": 1,
   "id": "italian-diabetes",
   "metadata": {},
   "outputs": [],
   "source": [
    "from utils import *"
   ]
  },
  {
   "cell_type": "code",
   "execution_count": 3,
   "id": "registered-rendering",
   "metadata": {},
   "outputs": [
    {
     "data": {
      "text/plain": [
       "arenas {\n",
       "  key: -1\n",
       "  value {\n",
       "    t: 250\n",
       "    items {\n",
       "      name: \"GoodGoal\"\n",
       "      positions {\n",
       "        x: 1.0\n",
       "        z: 15.0\n",
       "      }\n",
       "      sizes {\n",
       "        x: 2.0\n",
       "        y: 2.0\n",
       "        z: 2.0\n",
       "      }\n",
       "    }\n",
       "    items {\n",
       "      name: \"Agent\"\n",
       "      positions {\n",
       "        x: 1.0\n",
       "        z: 25.0\n",
       "      }\n",
       "    }\n",
       "    items {\n",
       "      name: \"Wall\"\n",
       "      positions {\n",
       "        x: 10.0\n",
       "        z: 12.0\n",
       "      }\n",
       "      sizes {\n",
       "        x: 2.0\n",
       "        y: 2.0\n",
       "        z: 2.0\n",
       "      }\n",
       "    }\n",
       "    items {\n",
       "      name: \"Wall\"\n",
       "      positions {\n",
       "        x: 25.0\n",
       "        z: 35.0\n",
       "      }\n",
       "      sizes {\n",
       "        x: 2.0\n",
       "        y: 2.0\n",
       "        z: 2.0\n",
       "      }\n",
       "    }\n",
       "  }\n",
       "}\n",
       "seed: -1"
      ]
     },
     "execution_count": 3,
     "metadata": {},
     "output_type": "execute_result"
    }
   ],
   "source": [
    "matrix = np.zeros((40,40))\n",
    "matrix[1, 15] = 1\n",
    "matrix[1, 25] = 2\n",
    "matrix[25, 35] = 3\n",
    "matrix[10, 12] = 3\n",
    "my_config = matrix2arena(matrix)\n",
    "my_config.to_proto()"
   ]
  },
  {
   "cell_type": "code",
   "execution_count": 32,
   "id": "least-tobago",
   "metadata": {},
   "outputs": [],
   "source": [
    "# visualize evironment just created\n",
    "\n",
    "try:\n",
    "    environment = AnimalAIEnvironment(\n",
    "            file_name='../env/AnimalAI',\n",
    "            base_port=5008,\n",
    "            arenas_configurations=my_config,\n",
    "            play=True,\n",
    "            worker_id = 5,\n",
    "        )\n",
    "except UnityCommunicationException:\n",
    "    # you'll end up here if you close the environment window directly\n",
    "    # always try to close it from script\n",
    "    environment.close()"
   ]
  },
  {
   "cell_type": "code",
   "execution_count": 33,
   "id": "moderate-editor",
   "metadata": {},
   "outputs": [],
   "source": [
    "if environment:\n",
    "    environment.close() # takes a few seconds"
   ]
  },
  {
   "cell_type": "code",
   "execution_count": 16,
   "id": "spoken-convergence",
   "metadata": {},
   "outputs": [
    {
     "data": {
      "text/plain": [
       "array([[1., 1., 1., ..., 1., 1., 1.],\n",
       "       [1., 1., 1., ..., 1., 1., 1.],\n",
       "       [1., 1., 1., ..., 1., 1., 1.],\n",
       "       ...,\n",
       "       [1., 1., 1., ..., 1., 1., 1.],\n",
       "       [1., 1., 1., ..., 1., 1., 1.],\n",
       "       [1., 1., 1., ..., 1., 1., 1.]])"
      ]
     },
     "execution_count": 16,
     "metadata": {},
     "output_type": "execute_result"
    }
   ],
   "source": [
    "m = np.zeros((38, 38)) + 1\n",
    "m"
   ]
  },
  {
   "cell_type": "code",
   "execution_count": 17,
   "id": "smooth-scanner",
   "metadata": {},
   "outputs": [
    {
     "data": {
      "text/plain": [
       "array([[0., 0., 0., ..., 0., 0., 0.],\n",
       "       [0., 1., 1., ..., 1., 1., 0.],\n",
       "       [0., 1., 1., ..., 1., 1., 0.],\n",
       "       ...,\n",
       "       [0., 1., 1., ..., 1., 1., 0.],\n",
       "       [0., 1., 1., ..., 1., 1., 0.],\n",
       "       [0., 0., 0., ..., 0., 0., 0.]])"
      ]
     },
     "execution_count": 17,
     "metadata": {},
     "output_type": "execute_result"
    }
   ],
   "source": [
    "result = np.zeros((40, 40))\n",
    "# actually you can also use result = np.zeros_like(b) \n",
    "# but that also copies the dtype not only the shape\n",
    "\n",
    "result[1:m.shape[0]+1,1:m.shape[1]+1] = m\n",
    "result"
   ]
  },
  {
   "cell_type": "code",
   "execution_count": 14,
   "id": "disturbed-anxiety",
   "metadata": {},
   "outputs": [
    {
     "data": {
      "text/plain": [
       "array([[0., 0.],\n",
       "       [0., 0.]])"
      ]
     },
     "execution_count": 14,
     "metadata": {},
     "output_type": "execute_result"
    }
   ],
   "source": [
    "result[1:3, 1:3]"
   ]
  },
  {
   "cell_type": "code",
   "execution_count": null,
   "id": "subject-processing",
   "metadata": {},
   "outputs": [],
   "source": []
  }
 ],
 "metadata": {
  "kernelspec": {
   "display_name": "Python 3",
   "language": "python",
   "name": "python3"
  },
  "language_info": {
   "codemirror_mode": {
    "name": "ipython",
    "version": 3
   },
   "file_extension": ".py",
   "mimetype": "text/x-python",
   "name": "python",
   "nbconvert_exporter": "python",
   "pygments_lexer": "ipython3",
   "version": "3.7.10"
  }
 },
 "nbformat": 4,
 "nbformat_minor": 5
}
