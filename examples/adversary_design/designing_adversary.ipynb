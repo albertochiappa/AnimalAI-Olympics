{
 "cells": [
  {
   "cell_type": "code",
   "execution_count": 1,
   "id": "novel-sellers",
   "metadata": {},
   "outputs": [],
   "source": [
    "from animalai.envs.arena_config import Vector3, RGB, Item, Arena, ArenaConfig\n",
    "from animalai.envs.environment import AnimalAIEnvironment\n",
    "from mlagents_envs.exception import UnityCommunicationException\n",
    "\n",
    "from typing import List\n",
    "from animalai.communicator_objects import (\n",
    "    ArenasConfigurationsProto,\n",
    "    ArenaConfigurationProto,\n",
    "    ItemToSpawnProto,\n",
    "    VectorProto,\n",
    ")\n",
    "\n",
    "from typing import List\n",
    "import yaml\n",
    "import numpy as np\n",
    "import matplotlib.pyplot as plt\n",
    "import matplotlib.patches as mpatches\n",
    "\n",
    "import networkx as nx\n",
    "from networkx import grid_graph"
   ]
  },
  {
   "cell_type": "code",
   "execution_count": 4,
   "id": "incoming-maximum",
   "metadata": {},
   "outputs": [],
   "source": [
    "## We redefine the class ArenaConfig to MyArenaConfig so instead of reading a .yaml file.\n",
    "## it reads the arena object we create\n",
    "\n",
    "class MyArenaConfig(yaml.YAMLObject):\n",
    "    yaml_tag = u\"!ArenaConfig\"\n",
    "\n",
    "    def __init__(self, my_arena: Arena = None):\n",
    "\n",
    "        self.arenas = {-1: my_arena}\n",
    "\n",
    "    def to_proto(self, seed: int = -1) -> ArenasConfigurationsProto:\n",
    "        arenas_configurations_proto = ArenasConfigurationsProto()\n",
    "        arenas_configurations_proto.seed = seed\n",
    "\n",
    "        for k in self.arenas:\n",
    "            arenas_configurations_proto.arenas[k].CopyFrom(self.arenas[k].to_proto())\n",
    "\n",
    "        return arenas_configurations_proto"
   ]
  },
  {
   "cell_type": "code",
   "execution_count": 3,
   "id": "hourly-budapest",
   "metadata": {},
   "outputs": [],
   "source": [
    "## For simplicity, we only modify the position of the goal (position of agent is fixed)\n",
    "\n",
    "def create_arena(x, y):\n",
    "    '''\n",
    "    Create an arena with only one agent and one goal.\n",
    "    :param x: float. x position goal\n",
    "    :param x: float. y position goal\n",
    "    '''\n",
    "    \n",
    "    # Create agent\n",
    "    position_agent = Vector3(x = 20, y = 0, z = 20)\n",
    "    rotation_agent = 0\n",
    "    agent = Item(name = 'Agent', positions = [position_agent], rotations = [rotation_agent])\n",
    "\n",
    "    # Create the goal\n",
    "    position_goal = Vector3(x = x, y = 0, z = y)\n",
    "    sizes_goal = Vector3(x = 1, y = 1, z = 1)\n",
    "    goal = Item(name = 'GoodGoal', positions = [position_goal], sizes = [sizes_goal])\n",
    "\n",
    "    # Define list of items\n",
    "    items = [agent, goal]\n",
    "\n",
    "    # Create Arena\n",
    "    my_arena = Arena(t=250, items=items, pass_mark = 0, blackouts = None)\n",
    "\n",
    "    # create arena configuration\n",
    "    my_config = MyArenaConfig(my_arena)\n",
    "    \n",
    "    return my_config"
   ]
  },
  {
   "cell_type": "markdown",
   "id": "limited-eligibility",
   "metadata": {},
   "source": [
    "## 1. Generate matrix from arena"
   ]
  },
  {
   "cell_type": "code",
   "execution_count": 4,
   "id": "hindu-pixel",
   "metadata": {},
   "outputs": [],
   "source": [
    "my_arena = create_arena(x=39, y=2)"
   ]
  },
  {
   "cell_type": "code",
   "execution_count": 5,
   "id": "comic-warrant",
   "metadata": {},
   "outputs": [],
   "source": [
    "def matrix_from_arena(my_arena):\n",
    "\n",
    "    for k in my_arena.arenas:\n",
    "        item_types = []\n",
    "        item_types_value = []\n",
    "        arena_m = np.zeros((40, 40)) - 1\n",
    "        for (i, item) in enumerate(my_arena.arenas[k].items):\n",
    "            # save each type of item\n",
    "            item_types.append(item.name)\n",
    "            item_types_value.append(i)\n",
    "            # positions (in case one item takes more than one position)\n",
    "            for (p, pos) in enumerate(item.positions):\n",
    "                x = pos.x\n",
    "                y = pos.z\n",
    "                if item.sizes:\n",
    "                    # if we have the size of the item\n",
    "                    x_size = item.sizes[p].x\n",
    "                    y_size = item.sizes[p].z\n",
    "\n",
    "                    # where the item starts and ends\n",
    "                    if x_size > 1:\n",
    "                        start_x = x - int(x_size/2)\n",
    "                        end_x = x + int(x_size/2)\n",
    "                    else:\n",
    "                        start_x = x\n",
    "                        end_x = x\n",
    "                    if y_size > 1:\n",
    "                        start_y = y - int(y_size/2)\n",
    "                        end_y = y + int(y_size/2)\n",
    "                    else:\n",
    "                        start_y = y\n",
    "                        end_y = y\n",
    "\n",
    "                    # paint figure\n",
    "                    for x_ in range(start_x, end_x+1):\n",
    "                        for y_ in range(start_y, end_y+1):\n",
    "                            arena_m[x_, y_] = i\n",
    "                else:\n",
    "                    arena_m[x, y] = i\n",
    "\n",
    "        fig = plt.imshow(arena_m, cmap=plt.get_cmap('Accent'))\n",
    "\n",
    "        items = np.concatenate((['Arena'], item_types))\n",
    "\n",
    "        # unique values\n",
    "        values = np.unique(arena_m.ravel())\n",
    "        # colormap used by imshow\n",
    "        colors = [fig.cmap(fig.norm(value)) for value in values]\n",
    "        # create a patch (proxy artist) for every color \n",
    "        patches = [mpatches.Patch(color=colors[i], label=\"{l}\".format(l=items[i]) ) for i in range(len(values)) ]\n",
    "        # put those patched as legend-handles into the legend\n",
    "        plt.legend(handles=patches, bbox_to_anchor=(1.05, 1), loc=2, borderaxespad=0. )\n",
    "\n",
    "        plt.grid(False)\n",
    "        plt.show()\n",
    "        \n",
    "        return arena_m"
   ]
  },
  {
   "cell_type": "code",
   "execution_count": 6,
   "id": "novel-hurricane",
   "metadata": {},
   "outputs": [
    {
     "data": {
      "image/png": "[encoded data removed]",
      "text/plain": [
       "<Figure size 432x288 with 1 Axes>"
      ]
     },
     "metadata": {
      "needs_background": "light"
     },
     "output_type": "display_data"
    }
   ],
   "source": [
    "my_arena = ArenaConfig('configurations/arena_configurations/cylinder_task.yml')\n",
    "arena_m = matrix_from_arena(my_arena)"
   ]
  },
  {
   "cell_type": "code",
   "execution_count": 7,
   "id": "urban-celebration",
   "metadata": {},
   "outputs": [
    {
     "data": {
      "image/png": "[encoded data removed]",
      "text/plain": [
       "<Figure size 432x288 with 1 Axes>"
      ]
     },
     "metadata": {
      "needs_background": "light"
     },
     "output_type": "display_data"
    },
    {
     "data": {
      "text/plain": [
       "array([[-1., -1., -1., ..., -1., -1., -1.],\n",
       "       [-1., -1., -1., ..., -1., -1., -1.],\n",
       "       [-1., -1., -1., ..., -1., -1., -1.],\n",
       "       ...,\n",
       "       [-1., -1., -1., ..., -1., -1., -1.],\n",
       "       [-1., -1., -1., ..., -1., -1., -1.],\n",
       "       [-1., -1., -1., ..., -1., -1., -1.]])"
      ]
     },
     "execution_count": 7,
     "metadata": {},
     "output_type": "execute_result"
    }
   ],
   "source": [
    "my_arena = ArenaConfig('configurations/curriculum/2.yml')\n",
    "matrix_from_arena(my_arena)"
   ]
  },
  {
   "cell_type": "markdown",
   "id": "outstanding-flight",
   "metadata": {},
   "source": [
    "## 2. Add item to an existing arena"
   ]
  },
  {
   "cell_type": "code",
   "execution_count": 8,
   "id": "noble-firewall",
   "metadata": {},
   "outputs": [],
   "source": [
    "def update_arena(old_arena, new_item):\n",
    "    # we add the new item\n",
    "    old_arena.items.append(new_item)\n",
    "\n",
    "    # save the model in a arena and create new config\n",
    "    new_arena = Arena(t=old_arena.t, items=old_arena.items, pass_mark = old_arena.pass_mark, blackouts = None)\n",
    "    \n",
    "    return new_arena"
   ]
  },
  {
   "cell_type": "code",
   "execution_count": 9,
   "id": "incident-wesley",
   "metadata": {},
   "outputs": [],
   "source": [
    "def create_wall(position = [2, 0, 20], size = [1, 1, 1]):\n",
    "    '''\n",
    "    Given the position and the size of the wall, it creates the item\n",
    "    '''\n",
    "    \n",
    "    # create new item: wall\n",
    "    position_wall = Vector3(x = position[0], y = position[1], z = position[2])\n",
    "    sizes_wall = Vector3(x = size[0], y = size[1], z = size[2])\n",
    "    \n",
    "    return Item(name = 'Wall', positions = [position_wall], sizes = [sizes_wall])"
   ]
  },
  {
   "cell_type": "code",
   "execution_count": 10,
   "id": "deadly-float",
   "metadata": {},
   "outputs": [
    {
     "name": "stdout",
     "output_type": "stream",
     "text": [
      "Old Arena\n"
     ]
    },
    {
     "data": {
      "image/png": "[encoded data removed]",
      "text/plain": [
       "<Figure size 432x288 with 1 Axes>"
      ]
     },
     "metadata": {
      "needs_background": "light"
     },
     "output_type": "display_data"
    },
    {
     "name": "stdout",
     "output_type": "stream",
     "text": [
      "New Arena\n"
     ]
    },
    {
     "data": {
      "image/png": "[encoded data removed]",
      "text/plain": [
       "<Figure size 432x288 with 1 Axes>"
      ]
     },
     "metadata": {
      "needs_background": "light"
     },
     "output_type": "display_data"
    },
    {
     "data": {
      "text/plain": [
       "array([[-1., -1., -1., ..., -1., -1., -1.],\n",
       "       [-1., -1., -1., ..., -1., -1., -1.],\n",
       "       [-1., -1., -1., ..., -1., -1., -1.],\n",
       "       ...,\n",
       "       [-1., -1., -1., ..., -1., -1., -1.],\n",
       "       [-1., -1., -1., ..., -1., -1., -1.],\n",
       "       [-1., -1., -1., ..., -1., -1., -1.]])"
      ]
     },
     "execution_count": 10,
     "metadata": {},
     "output_type": "execute_result"
    }
   ],
   "source": [
    "# Create Arena\n",
    "my_arena = ArenaConfig('configurations/curriculum/2.yml')\n",
    "\n",
    "print('Old Arena')\n",
    "matrix_from_arena(my_arena)\n",
    "\n",
    "# save old arena\n",
    "old_arena = my_arena.arenas[-1]\n",
    "\n",
    "# create wall\n",
    "wall = create_wall(position = [2, 0, 10], size = [5, 1, 10])\n",
    "\n",
    "# update\n",
    "new_arena = update_arena(old_arena, new_item=wall)\n",
    "new_arena = MyArenaConfig(new_arena)\n",
    "\n",
    "print('New Arena')\n",
    "matrix_from_arena(new_arena)"
   ]
  },
  {
   "cell_type": "markdown",
   "id": "alone-depression",
   "metadata": {},
   "source": [
    "# 3.  Gym environment\n",
    "\n",
    "In this section we create the gym environment as in PAIRED: https://github.com/google-research/google-research/blob/master/social_rl/gym_multigrid/envs/adversarial.py"
   ]
  },
  {
   "cell_type": "code",
   "execution_count": 5,
   "id": "respective-alarm",
   "metadata": {},
   "outputs": [],
   "source": [
    "import gym\n",
    "from random import randint"
   ]
  },
  {
   "cell_type": "code",
   "execution_count": 6,
   "id": "based-democrat",
   "metadata": {},
   "outputs": [],
   "source": [
    "class AdversarialEnv(gym.Env):\n",
    "    ''' Grid world where an adversary build the environment the agent plays.\n",
    "    The adversary places the goal, agent, and up to n_clutter blocks in sequence.\n",
    "    The action dimension is the number of squares in the grid, and each action\n",
    "    chooses where the next item should be placed. '''\n",
    "\n",
    "    def __init__(self, n_clutter=10, size=40, goal_noise=0., random_z_dim=10, choose_goal_last=False):\n",
    "        '''Initializes environment in which adversary places goal, agent, obstacles.\n",
    "        Args:\n",
    "          n_clutter: The maximum number of obstacles the adversary can place.\n",
    "          size: The number of tiles across one side of the grid; i.e. make a size x size grid.\n",
    "          max_steps: The maximum number of steps that can be taken before the episode terminates.\n",
    "          goal_noise: The probability with which the goal will move to a different location than \n",
    "              the one chosen by the adversary.\n",
    "          random_z_dim: The environment generates a random vector z to condition the adversary. \n",
    "              This gives the dimension of that vector.\n",
    "          choose_goal_last: If True, will place the goal and agent as the last actions, rather than the first actions.\n",
    "        '''\n",
    "        # define params\n",
    "        self.agent_start_pos = None\n",
    "        self.goal_pos = None\n",
    "        self.n_clutter = n_clutter\n",
    "        self.goal_noise = goal_noise # we do not actualy use it (not yet)\n",
    "        self.random_z_dim = random_z_dim\n",
    "        self.choose_goal_last = choose_goal_last\n",
    "        # Add two actions for placing the agent and goal.\n",
    "        self.adversary_max_steps = self.n_clutter + 2\n",
    "        self.width=size\n",
    "        self.height=size\n",
    "        \n",
    "        self.reset_metrics()\n",
    "\n",
    "        # Create spaces for adversary agent's specs: all spaces where it can place an object\n",
    "        self.adversary_action_dim = size**2\n",
    "        self.adversary_action_space = gym.spaces.Discrete(self.adversary_action_dim)\n",
    "        self.adversary_ts_obs_space = gym.spaces.Box(\n",
    "            low=0, high=self.adversary_max_steps, shape=(1,), dtype='uint8')\n",
    "        self.adversary_randomz_obs_space = gym.spaces.Box(\n",
    "            low=0, high=1.0, shape=(random_z_dim,), dtype=np.float32)\n",
    "        # obs space: 0 if arena, 1 agent, 2 goal, walls 3\n",
    "        self.adversary_image_obs_space = gym.spaces.Box(low=0,high=3,shape=(self.width, self.height, 1),dtype='uint8')\n",
    "\n",
    "        # Adversary observations are dictionaries containing an encoding of the grid, the current time step, \n",
    "        # and a randomly generated vector used to condition generation (as in a GAN).\n",
    "        self.adversary_observation_space = gym.spaces.Dict(\n",
    "            {'image': self.adversary_image_obs_space,\n",
    "             'time_step': self.adversary_ts_obs_space,\n",
    "             'random_z': self.adversary_randomz_obs_space})\n",
    "\n",
    "    def _gen_grid(self):\n",
    "        \"\"\"Grid is initially empty, because adversary will create it.\"\"\"\n",
    "        # Create an empty grid\n",
    "        self.grid = np.zeros((self.width, self.height))\n",
    "        \n",
    "    def get_goal(self):\n",
    "        if self.goal_pos is None:\n",
    "            return -1\n",
    "        return self.goal_pos[0]\n",
    "\n",
    "    def get_agent(self):\n",
    "        if self.goal_pos is None:\n",
    "            return -1\n",
    "        return self.agent_start_pos\n",
    "    \n",
    "    def reset_metrics(self):\n",
    "        '''Define other metrics'''\n",
    "        self.distance_to_goal = -1\n",
    "        self.n_clutter_placed = 0\n",
    "        self.deliberate_agent_placement = -1\n",
    "        self.passable = -1\n",
    "        self.adversary_step_count = 0\n",
    "        self.graph = grid_graph(dim=[self.width, self.height])\n",
    "        self.wall_locs = []\n",
    "        \n",
    "    def reset(self):\n",
    "        '''Fully resets the environment to an empty grid with no agent or goal.'''\n",
    "        \n",
    "        self.adversary_step_count = 0\n",
    "\n",
    "        self.agent_start_pos = None\n",
    "        self.goal_pos = None\n",
    "\n",
    "        # Extra metrics\n",
    "        self.reset_metrics()\n",
    "\n",
    "        # Generate the empty grid\n",
    "        self._gen_grid()\n",
    "\n",
    "        #image = self.grid.encode()\n",
    "        obs = {\n",
    "            'image': self.grid,\n",
    "            'time_step': [self.adversary_step_count],\n",
    "            'random_z': self.generate_random_z()\n",
    "        }\n",
    "\n",
    "        return obs\n",
    "    \n",
    "    def generate_random_z(self):\n",
    "        return np.random.uniform(size=(self.random_z_dim,)).astype(np.float32)\n",
    "    \n",
    "    def remove_wall(self, x, y):\n",
    "        # if there is a wall, remove it\n",
    "        if self.grid[x, y] == 3:\n",
    "            self.grid[x, y] = 0\n",
    "            \n",
    "    def render(self):\n",
    "        fig = plt.imshow(self.grid, cmap=plt.get_cmap('Accent'))\n",
    "        # values\n",
    "        values = np.array([0, 1, 2, 3])\n",
    "        #items\n",
    "        items = ['Arena', 'Agent', 'Goal', 'Wall']\n",
    "        # colormap used by imshow\n",
    "        colors = [fig.cmap(fig.norm(value)) for value in values]\n",
    "        # create a patch (proxy artist) for every color \n",
    "        patches = [mpatches.Patch(color=colors[i], label=\"{l}\".format(l=items[i]) ) for i in range(len(values)) ]\n",
    "        # put those patched as legend-handles into the legend\n",
    "        plt.legend(handles=patches, bbox_to_anchor=(1.05, 1), loc=2, borderaxespad=0. )\n",
    "\n",
    "        plt.grid(False)\n",
    "        plt.show()\n",
    "        \n",
    "    def compute_shortest_path(self):\n",
    "        if self.agent_start_pos is None or self.goal_pos is None:\n",
    "            return\n",
    "\n",
    "        self.distance_to_goal = abs(\n",
    "            self.goal_pos[0] - self.agent_start_pos[0]) + abs(\n",
    "                self.goal_pos[1] - self.agent_start_pos[1])\n",
    "\n",
    "        # Check if there is a path between agent start position and goal. Remember\n",
    "        # to subtract 1 due to outside walls existing in the Grid, but not in the\n",
    "        # networkx graph.\n",
    "        self.passable = nx.has_path(\n",
    "            self.graph,\n",
    "            source=(self.agent_start_pos[0], self.agent_start_pos[1]),\n",
    "            target=(self.goal_pos[0], self.goal_pos[1]))\n",
    "        if self.passable:\n",
    "          # Compute shortest path\n",
    "            self.shortest_path_length = nx.shortest_path_length(\n",
    "              self.graph,\n",
    "              source=(self.agent_start_pos[0], self.agent_start_pos[1]),\n",
    "              target=(self.goal_pos[0], self.goal_pos[1]))\n",
    "        else:\n",
    "          # Impassable environments have a shortest path length 1 longer than\n",
    "          # longest possible path\n",
    "            self.shortest_path_length = (self.width - 1) * (self.height - 1) + 1\n",
    "    \n",
    "    def step(self, loc):\n",
    "    #def step(self, x, y):\n",
    "        '''The adversary gets n_clutter + 2 moves to place the goal, agent, blocks.\n",
    "        The action space is the number of possible squares in the grid. \n",
    "        The squares are numbered from left to right, top to bottom.\n",
    "        Args:\n",
    "          loc: An integer specifying the location to place the next object which\n",
    "            must be decoded into x, y coordinates.\n",
    "        Returns:\n",
    "          Standard RL observation, reward (always 0), done, and info\n",
    "        '''\n",
    "        #if loc >= self.adversary_action_dim:\n",
    "         #   raise ValueError('Position passed to step_adversary is outside the grid.')\n",
    "\n",
    "        x = int(loc % self.width) \n",
    "        y = int(loc / self.width) \n",
    "        #done = False\n",
    "        \n",
    "        # Check if we should choose goal or agent\n",
    "        if self.choose_goal_last:\n",
    "            should_choose_goal = self.adversary_step_count == self.adversary_max_steps - 2\n",
    "            should_choose_agent = self.adversary_step_count == self.adversary_max_steps - 1\n",
    "        else:\n",
    "            should_choose_goal = self.adversary_step_count == 0\n",
    "            should_choose_agent = self.adversary_step_count == 1\n",
    "        \n",
    "        if should_choose_goal:\n",
    "            self.grid[x, y] = 1\n",
    "            self.goal_pos = [x, y]\n",
    "        elif should_choose_agent:\n",
    "            if self.grid[x, y] != 1:\n",
    "                self.grid[x, y] = 2\n",
    "                self.agent_start_pos = [x, y]\n",
    "            else:\n",
    "                while self.grid[x, y] == 1:\n",
    "                    x = randint(1, 14)\n",
    "                    y = randint(1, 14)\n",
    "                    self.grid[x, y] = 2\n",
    "                    self.agent_start_pos = [x, y]           \n",
    "        else:\n",
    "            if self.grid[x, y] != 1 and self.grid[x, y] != 2:\n",
    "                self.grid[x, y] = 3\n",
    "                if (x, y) not in self.wall_locs:\n",
    "                    self.wall_locs.append((x, y))\n",
    "            \n",
    "        self.adversary_step_count += 1\n",
    "            \n",
    "        # End of episode\n",
    "        if self.adversary_step_count >= self.adversary_max_steps:\n",
    "            done = True\n",
    "            \n",
    "            # Build graph after we are certain agent and goal are placed\n",
    "            for w in self.wall_locs:\n",
    "                self.graph.remove_node(w)\n",
    "            self.compute_shortest_path()\n",
    "\n",
    "        obs = {\n",
    "            'image': self.grid,\n",
    "            'time_step': [self.adversary_step_count],\n",
    "            'random_z': self.generate_random_z()\n",
    "        }\n",
    "\n",
    "        #return obs, env.shortest_path_length  if done else 0, done, {}\n",
    "        return obs, 0, done, {}"
   ]
  },
  {
   "cell_type": "code",
   "execution_count": 8,
   "id": "intimate-census",
   "metadata": {},
   "outputs": [
    {
     "data": {
      "text/plain": [
       "array([[0., 0., 0., ..., 0., 0., 0.],\n",
       "       [0., 0., 0., ..., 0., 0., 0.],\n",
       "       [0., 0., 0., ..., 0., 0., 0.],\n",
       "       ...,\n",
       "       [0., 0., 0., ..., 0., 0., 0.],\n",
       "       [0., 0., 0., ..., 0., 0., 0.],\n",
       "       [0., 0., 0., ..., 0., 0., 0.]])"
      ]
     },
     "execution_count": 8,
     "metadata": {},
     "output_type": "execute_result"
    }
   ],
   "source": [
    "env = AdversarialEnv()\n",
    "env._gen_grid()\n",
    "env.grid"
   ]
  },
  {
   "cell_type": "code",
   "execution_count": 9,
   "id": "dutch-invalid",
   "metadata": {},
   "outputs": [
    {
     "name": "stdout",
     "output_type": "stream",
     "text": [
      "[3.]\n",
      "[]\n"
     ]
    }
   ],
   "source": [
    "env.grid[2, 4] = 3\n",
    "print(env.grid[env.grid == 3])\n",
    "env.remove_wall(2, 4)\n",
    "print(env.grid[env.grid == 3])"
   ]
  },
  {
   "cell_type": "code",
   "execution_count": 10,
   "id": "skilled-penetration",
   "metadata": {},
   "outputs": [
    {
     "data": {
      "image/png": "[encoded data removed]",
      "text/plain": [
       "<Figure size 432x288 with 1 Axes>"
      ]
     },
     "metadata": {
      "needs_background": "light"
     },
     "output_type": "display_data"
    }
   ],
   "source": [
    "size = 15\n",
    "n_blocks = 70\n",
    "env = AdversarialEnv(n_clutter=n_blocks, random_z_dim=n_blocks, size=size)\n",
    "env._gen_grid()\n",
    "for i in range(50):\n",
    "    #loc = randint(0, size**2-1)\n",
    "    loc = env.adversary_action_space.sample()\n",
    "    env.step(loc)\n",
    "env.render()"
   ]
  },
  {
   "cell_type": "code",
   "execution_count": 20,
   "id": "rocky-performance",
   "metadata": {},
   "outputs": [
    {
     "data": {
      "text/plain": [
       "16"
      ]
     },
     "execution_count": 20,
     "metadata": {},
     "output_type": "execute_result"
    }
   ],
   "source": [
    "env.compute_shortest_path()\n",
    "env.shortest_path_length"
   ]
  },
  {
   "cell_type": "markdown",
   "id": "norman-producer",
   "metadata": {},
   "source": [
    "## More simple"
   ]
  },
  {
   "cell_type": "code",
   "execution_count": 2,
   "id": "greek-membrane",
   "metadata": {},
   "outputs": [],
   "source": [
    "import gym\n",
    "from gym.utils import seeding\n",
    "import numpy as np"
   ]
  },
  {
   "cell_type": "code",
   "execution_count": 17,
   "id": "governmental-basement",
   "metadata": {},
   "outputs": [],
   "source": [
    "class AdversarialEnv(gym.Env):\n",
    "    ''' Grid world where an adversary build the environment the agent plays.\n",
    "    The adversary places the goal, agent, and up to n_clutter blocks in sequence.\n",
    "    The action dimension is the number of squares in the grid, and each action\n",
    "    chooses where the next item should be placed. '''\n",
    "\n",
    "    def __init__(self, n_clutter=10, size=40, goal_noise=0., random_z_dim=10, choose_goal_last=False):\n",
    "        '''Initializes environment in which adversary places goal, agent, obstacles.\n",
    "        Args:\n",
    "          n_clutter: The maximum number of obstacles the adversary can place.\n",
    "          size: The number of tiles across one side of the grid; i.e. make a size x size grid.\n",
    "          max_steps: The maximum number of steps that can be taken before the episode terminates.\n",
    "        '''\n",
    "        # define params\n",
    "        self.agent_start_pos = None\n",
    "        self.goal_pos = None\n",
    "        self.n_clutter = n_clutter\n",
    "        # Add two actions for placing the agent and goal.\n",
    "        self.max_steps = self.n_clutter + 2\n",
    "        self.size=size\n",
    "\n",
    "        # Create spaces for adversary agent's specs: all spaces where it can place an object\n",
    "        self.action_space = gym.spaces.Discrete(size**2)\n",
    "        \n",
    "        # lets start making the observation space easier\n",
    "        self.observation_space = gym.spaces.Box(low=0,high=3,shape=(self.size, self.size),dtype='uint8')\n",
    "        \n",
    "        self.seed()\n",
    "        \n",
    "        self.reset()\n",
    "        \n",
    "    def reset(self):\n",
    "        self.count = 0    \n",
    "        self.state = np.zeros((self.size, self.size))\n",
    "        self.reward = 0\n",
    "        self.done = False\n",
    "        self.info = {}\n",
    "        \n",
    "    def step (self, action):\n",
    "        if self.done:\n",
    "          # should never reach this point\n",
    "            print(\"EPISODE DONE!!!\")\n",
    "        elif self.count == self.max_steps:\n",
    "              self.done = True;\n",
    "        else:\n",
    "            try:\n",
    "                assert self.action_space.contains(action)\n",
    "                \n",
    "                x = int(action % self.size) \n",
    "                y = int(action / self.size) \n",
    "\n",
    "                should_choose_goal = self.count == 0\n",
    "                should_choose_agent = self.count == 1\n",
    "                \n",
    "                if should_choose_goal:\n",
    "                    self.state[x, y] = 1\n",
    "                    self.goal_pos = [x, y]\n",
    "                elif should_choose_agent:\n",
    "                    if self.state[x, y] != 1:\n",
    "                        self.state[x, y] = 2\n",
    "                    else:\n",
    "                        while self.state[x, y] == 1:\n",
    "                            l = self.action_space.sample()\n",
    "                            x = int(action % self.size) \n",
    "                            y = int(action / self.size)\n",
    "                        self.state[x, y] = 2\n",
    "                    self.agent_start_pos = [x, y]    \n",
    "                else:\n",
    "                    if self.state[x, y] != 1 and self.state[x, y] != 2:\n",
    "                        self.state[x, y] = 3\n",
    "                        \n",
    "                self.count += 1\n",
    "                \n",
    "            except AssertionError:\n",
    "                print(\"INVALID ACTION\", action)  \n",
    "                \n",
    "                \n",
    "        try:\n",
    "            assert self.observation_space.contains(self.state)\n",
    "        except AssertionError:\n",
    "            print(\"INVALID STATE\", self.state)  \n",
    "            \n",
    "        \n",
    "        return self.state, self.reward, self.done, self.info\n",
    "    \n",
    "    def render(self, mode=\"human\"):\n",
    "        s = \"reward: {:2d}  info: {}\"\n",
    "        print(s.format(self.reward, self.info))\n",
    "        \n",
    "    def seed (self, seed=None):\n",
    "        \"\"\"Sets the seed for this env's random number generator(s).\"\"\"\n",
    "        self.np_random, seed = seeding.np_random(seed)\n",
    "        return [seed]"
   ]
  },
  {
   "cell_type": "code",
   "execution_count": null,
   "id": "animal-enlargement",
   "metadata": {},
   "outputs": [],
   "source": []
  }
 ],
 "metadata": {
  "kernelspec": {
   "display_name": "Python 3",
   "language": "python",
   "name": "python3"
  },
  "language_info": {
   "codemirror_mode": {
    "name": "ipython",
    "version": 3
   },
   "file_extension": ".py",
   "mimetype": "text/x-python",
   "name": "python",
   "nbconvert_exporter": "python",
   "pygments_lexer": "ipython3",
   "version": "3.7.10"
  }
 },
 "nbformat": 4,
 "nbformat_minor": 5
}
