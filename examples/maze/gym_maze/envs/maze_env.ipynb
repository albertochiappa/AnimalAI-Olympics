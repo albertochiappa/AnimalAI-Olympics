{
 "cells": [
  {
   "cell_type": "code",
   "execution_count": 1,
   "id": "1356504b-607c-41c5-9ba1-df21b93e85b2",
   "metadata": {},
   "outputs": [],
   "source": [
    "import numpy as np\n",
    "from numpy.random import randint\n",
    "import matplotlib.pyplot as plt\n",
    "\n",
    "from itertools import product as cartesian_product\n",
    "\n",
    "from skimage.draw import circle, circle_perimeter\n",
    "\n",
    "import matplotlib.animation as animation\n",
    "from matplotlib import colors\n",
    "from past.utils import old_div\n",
    "\n",
    "import gym\n",
    "from gym import spaces\n",
    "from gym.utils import seeding"
   ]
  },
  {
   "cell_type": "markdown",
   "id": "31aa4235-24d2-4670-bbf7-b6628030a97d",
   "metadata": {},
   "source": [
    "## Maze generators"
   ]
  },
  {
   "cell_type": "markdown",
   "id": "430d1464-a03e-41bd-93a0-d9de2f86e924",
   "metadata": {},
   "source": [
    "#### Ref: https://github.com/rpinsler/gym-maze/blob/master/gym_maze/envs/generators.py"
   ]
  },
  {
   "cell_type": "code",
   "execution_count": 9,
   "id": "0ef62918-5334-4ff9-99a9-6ad6bd3bea3a",
   "metadata": {},
   "outputs": [],
   "source": [
    "class MazeGenerator(object):\n",
    "    def __init__(self):\n",
    "        self.maze = None\n",
    "    \n",
    "    def sample_state(self):\n",
    "        \"\"\"Uniformaly sample an initial state and a goal state\"\"\"\n",
    "        # Get indices for all free spaces, i.e. zero\n",
    "        free_space = np.where(self.maze == 0)\n",
    "        free_space = list(zip(free_space[0], free_space[1]))\n",
    "\n",
    "        # Sample indices for initial state and goal state\n",
    "        init_idx, goal_idx = np.random.choice(len(free_space), size=2, replace=False)\n",
    "        \n",
    "        # Convert initial state to a list, goal states to list of list\n",
    "        init_state = list(free_space[init_idx])\n",
    "        goal_states = [list(free_space[goal_idx])]  # TODO: multiple goals\n",
    "        \n",
    "        return init_state, goal_states\n",
    "        \n",
    "    def get_maze(self):\n",
    "        return self.maze"
   ]
  },
  {
   "cell_type": "code",
   "execution_count": 10,
   "id": "66be8b7c-3acd-418c-ac30-4e1d9e1ceada",
   "metadata": {},
   "outputs": [],
   "source": [
    "class RandomMazeGenerator(MazeGenerator):\n",
    "    def __init__(self, width=81, height=51, complexity=.75, density=.75):\n",
    "        super().__init__()\n",
    "        \n",
    "        self.width = width\n",
    "        self.height = height\n",
    "        self.complexity = complexity\n",
    "        self.density = density\n",
    "        \n",
    "        self.maze = self._generate_maze()\n",
    "        \n",
    "    def _generate_maze(self):\n",
    "        \"\"\"\n",
    "        Code from https://en.wikipedia.org/wiki/Maze_generation_algorithm\n",
    "        \"\"\"\n",
    "        # Only odd shapes\n",
    "        shape = ((self.height // 2) * 2 + 1, (self.width // 2) * 2 + 1)\n",
    "        # Adjust complexity and density relative to maze size\n",
    "        self.complexity = int(self.complexity * (5 * (shape[0] + shape[1])))\n",
    "        self.density    = int(self.density * ((shape[0] // 2) * (shape[1] // 2)))\n",
    "        # Build actual maze\n",
    "        Z = np.zeros(shape, dtype=bool)\n",
    "        # Fill borders\n",
    "        Z[0, :] = Z[-1, :] = 1\n",
    "        Z[:, 0] = Z[:, -1] = 1\n",
    "        # Make aisles\n",
    "        for i in range(self.density):\n",
    "            x, y = randint(0, shape[1]//2 + 1) * 2, randint(0, shape[0]//2 + 1) * 2\n",
    "            Z[y, x] = 1\n",
    "            for j in range(self.complexity):\n",
    "                neighbours = []\n",
    "                if x > 1:             neighbours.append((y, x - 2))\n",
    "                if x < shape[1] - 2:  neighbours.append((y, x + 2))\n",
    "                if y > 1:             neighbours.append((y - 2, x))\n",
    "                if y < shape[0] - 2:  neighbours.append((y + 2, x))\n",
    "                if len(neighbours):\n",
    "                    y_,x_ = neighbours[randint(0, len(neighbours))]\n",
    "                    if Z[y_, x_] == 0:\n",
    "                        Z[y_, x_] = 1\n",
    "                        Z[y_ + (y - y_) // 2, x_ + (x - x_) // 2] = 1\n",
    "                        x, y = x_, y_\n",
    "        return Z.astype(int)"
   ]
  },
  {
   "cell_type": "code",
   "execution_count": 7,
   "id": "b2e6b6e8-f327-4478-9c63-b9c839fa8e79",
   "metadata": {},
   "outputs": [
    {
     "data": {
      "text/plain": [
       "(39, 39)"
      ]
     },
     "execution_count": 7,
     "metadata": {},
     "output_type": "execute_result"
    },
    {
     "data": {
      "image/png": "[encoded data removed]",
      "text/plain": [
       "<Figure size 432x288 with 1 Axes>"
      ]
     },
     "metadata": {
      "needs_background": "light"
     },
     "output_type": "display_data"
    }
   ],
   "source": [
    "generator = RandomMazeGenerator(width=39, height=39)\n",
    "plt.imshow(generator.get_maze())\n",
    "generator.get_maze().shape"
   ]
  },
  {
   "cell_type": "code",
   "execution_count": 9,
   "id": "4604c201-13f0-41da-bb04-8828d82f9e3e",
   "metadata": {},
   "outputs": [
    {
     "data": {
      "text/plain": [
       "([25, 35], [[25, 32]])"
      ]
     },
     "execution_count": 9,
     "metadata": {},
     "output_type": "execute_result"
    }
   ],
   "source": [
    "generator.sample_state() # init state and goal state"
   ]
  },
  {
   "cell_type": "markdown",
   "id": "6c21083a-3270-405a-a1bb-431289c0ff12",
   "metadata": {},
   "source": [
    "## Environment"
   ]
  },
  {
   "cell_type": "code",
   "execution_count": 109,
   "id": "4167c5ad-31bb-4f5d-aede-193975a6f2da",
   "metadata": {},
   "outputs": [],
   "source": [
    "class MazeEnv(gym.Env):\n",
    "    \"\"\"Configurable environment for maze. \"\"\"\n",
    "    metadata = {'render.modes': ['human', 'rgb_array']}\n",
    "\n",
    "    def __init__(self,\n",
    "                 maze,\n",
    "                 pob_size=1,\n",
    "                 action_type='VonNeumann',\n",
    "                 obs_type='full'):\n",
    "        \"\"\"Initialize the maze. DType: list\"\"\"\n",
    "        \n",
    "        self.EMPTY = 0\n",
    "        self.WALL = 1\n",
    "        self.AGENT = 2\n",
    "        self.GOAL = 3\n",
    "        \n",
    "        # Random seed with internal gym seeding\n",
    "        self.seed()\n",
    "\n",
    "        # Maze: 0: free space, 1: wall\n",
    "        self.maze = np.array(maze)\n",
    "        self.maze_size = self.maze.shape\n",
    "        \n",
    "        x, y  = np.where(self.maze == self.AGENT)\n",
    "        self.init_state = [x.item(), y.item()]\n",
    "        self.maze[x, y] = 0\n",
    "        \n",
    "        x, y  = np.where(self.maze == self.GOAL)\n",
    "        self.goal_states = [[x.item(), y.item()]]\n",
    "        self.maze[x, y] = 0\n",
    "\n",
    "        self.traces = []\n",
    "        self.action_type = action_type\n",
    "        self.obs_type = obs_type\n",
    "\n",
    "        self.state = self.init_state\n",
    "\n",
    "        # Action space: 0: Up, 1: Down, 2: Left, 3: Right\n",
    "        if self.action_type == 'VonNeumann':  # Von Neumann neighborhood\n",
    "            self.num_actions = 4\n",
    "        elif action_type == 'Moore':  # Moore neighborhood\n",
    "            self.num_actions = 8\n",
    "        else:\n",
    "            raise TypeError('Action type must be either \\'VonNeumann\\' or \\'Moore\\'')\n",
    "        self.action_space = spaces.Discrete(self.num_actions)\n",
    "        self.all_actions = list(range(self.action_space.n))\n",
    "\n",
    "        # Size of the partial observable window\n",
    "        self.pob_size = pob_size\n",
    "\n",
    "        # Observation space\n",
    "        low_obs = 0  # Lowest integer in observation\n",
    "        high_obs = 3  # Highest integer in observation\n",
    "        if self.obs_type == 'full':\n",
    "            self.observation_space = spaces.Box(low=low_obs,\n",
    "                                                high=high_obs,\n",
    "                                                shape=self.maze_size, )\n",
    "            # dtype=np.float32)\n",
    "        elif self.obs_type == 'partial':\n",
    "            self.observation_space = spaces.Box(low=low_obs,\n",
    "                                                high=high_obs,\n",
    "                                                shape=(self.pob_size * 2 + 1, self.pob_size * 2 + 1), )\n",
    "            # dtype=np.float32)\n",
    "        else:\n",
    "            raise TypeError('Observation type must be either \\'full\\' or \\'partial\\'')\n",
    "\n",
    "\n",
    "    def step(self, action):\n",
    "        old_state = self.state\n",
    "        # Update current state\n",
    "        self.state = self._next_state(self.state, action)\n",
    "\n",
    "        # Footprint: Record agent trajectory\n",
    "        self.traces.append(self.state)\n",
    "\n",
    "        if self._goal_test(self.state):  # Goal check\n",
    "            reward = +1\n",
    "            done = True\n",
    "        elif self.state == old_state:  # Hit wall\n",
    "            reward = -1\n",
    "            done = False\n",
    "        else:  # Moved, small negative reward to encourage shorest path\n",
    "            reward = -0.01\n",
    "            done = False\n",
    "\n",
    "        # Additional info\n",
    "        info = {}\n",
    "\n",
    "        return self._get_obs(), reward, done, info\n",
    "\n",
    "    def seed(self, seed=None):\n",
    "        self.np_random, seed = seeding.np_random(seed)\n",
    "\n",
    "        return [seed]\n",
    "\n",
    "    def reset(self, maze = None):\n",
    "        # Reset maze\n",
    "        if maze is not None:\n",
    "            self.maze = maze\n",
    "\n",
    "        # Set current state be initial state\n",
    "        self.state = self.init_state\n",
    "\n",
    "        # Clean the traces of the trajectory\n",
    "        self.traces = [self.init_state]\n",
    "\n",
    "        return self._get_obs()\n",
    "\n",
    "    def _goal_test(self, state):\n",
    "        \"\"\"Return True if current state is a goal state.\"\"\"\n",
    "        if type(self.goal_states[0]) == list:\n",
    "            return list(state) in self.goal_states\n",
    "        elif type(self.goal_states[0]) == tuple:\n",
    "            return tuple(state) in self.goal_states\n",
    "\n",
    "    def _next_state(self, state, action):\n",
    "        \"\"\"Return the next state from a given state by taking a given action.\"\"\"\n",
    "\n",
    "        # Transition table to define movement for each action\n",
    "        if self.action_type == 'VonNeumann':\n",
    "            transitions = {0: [-1, 0], 1: [+1, 0], 2: [0, -1], 3: [0, +1]}\n",
    "        elif self.action_type == 'Moore':\n",
    "            transitions = {0: [-1, 0], 1: [+1, 0], 2: [0, -1], 3: [0, +1],\n",
    "                           4: [-1, +1], 5: [+1, +1], 6: [-1, -1], 7: [+1, -1]}\n",
    "\n",
    "        new_state = [state[0] + transitions[action][0], state[1] + transitions[action][1]]\n",
    "        if self.maze[new_state[0]][new_state[1]] == 1:  # Hit wall, stay there\n",
    "            return state\n",
    "        else:  # Valid move for 0, 2, 3, 4\n",
    "            return new_state\n",
    "\n",
    "    def _get_obs(self):\n",
    "        if self.obs_type == 'full':\n",
    "          #  return self._get_full_obs().flatten()\n",
    "            return self._get_full_obs()\n",
    "        elif self.obs_type == 'partial':\n",
    "          #  return self._get_partial_obs(self.pob_size).flatten()\n",
    "            return self._get_partial_obs(self.pob_size)\n",
    "\n",
    "    def _get_full_obs(self):\n",
    "        \"\"\"Return a 2D array representation of maze.\"\"\"\n",
    "        obs = np.array(self.maze)\n",
    "        # Set goal positions\n",
    "        for goal in self.goal_states:\n",
    "            obs[goal[0]][goal[1]] = 3  # 3: goal\n",
    "\n",
    "        # Set current position\n",
    "        # Come after painting goal positions, avoid invisible within multi-goal regions\n",
    "        obs[self.state[0]][self.state[1]] = 2  # 2: agent\n",
    "\n",
    "        return obs\n",
    "\n",
    "    def _get_partial_obs(self, size=1):\n",
    "        \"\"\"Get partial observable window according to Moore neighborhood\"\"\"\n",
    "        # Get maze with indicated location of current position and goal positions\n",
    "        maze = self._get_full_obs()\n",
    "        pos = np.array(self.state)\n",
    "\n",
    "        under_offset = np.min(pos - size)\n",
    "        over_offset = np.min(len(maze) - (pos + size + 1))\n",
    "        offset = np.min([under_offset, over_offset])\n",
    "\n",
    "        if offset < 0:  # Need padding\n",
    "            maze = np.pad(maze, np.abs(offset), 'constant', constant_values=1)\n",
    "            pos += np.abs(offset)\n",
    "\n",
    "        return maze[pos[0] - size: pos[0] + size + 1, pos[1] - size: pos[1] + size + 1]"
   ]
  },
  {
   "cell_type": "code",
   "execution_count": 110,
   "id": "31b1bea4-d074-4846-8d3b-8866da150607",
   "metadata": {},
   "outputs": [
    {
     "data": {
      "text/plain": [
       "array([[1, 1, 1, 1, 1, 1, 1, 1, 1],\n",
       "       [1, 2, 0, 0, 0, 0, 0, 0, 1],\n",
       "       [1, 0, 1, 1, 1, 1, 1, 0, 1],\n",
       "       [1, 0, 0, 0, 0, 0, 1, 0, 1],\n",
       "       [1, 0, 1, 1, 1, 0, 1, 0, 1],\n",
       "       [1, 0, 1, 0, 0, 0, 1, 0, 1],\n",
       "       [1, 0, 1, 1, 1, 1, 1, 0, 1],\n",
       "       [1, 0, 0, 0, 0, 0, 0, 3, 1],\n",
       "       [1, 1, 1, 1, 1, 1, 1, 1, 1]])"
      ]
     },
     "execution_count": 110,
     "metadata": {},
     "output_type": "execute_result"
    }
   ],
   "source": [
    "m = RandomMazeGenerator(width=8, height=8)\n",
    "maze = m.get_maze()\n",
    "maze[1][1] = 2\n",
    "maze[-2][-2] = 3\n",
    "maze"
   ]
  },
  {
   "cell_type": "code",
   "execution_count": 111,
   "id": "c4fae349-01cd-4b77-851d-d75b5b14977f",
   "metadata": {},
   "outputs": [
    {
     "name": "stdout",
     "output_type": "stream",
     "text": [
      "reward:  -1\n",
      "reward:  -0.01\n",
      "reward:  -0.01\n",
      "reward:  -0.01\n"
     ]
    },
    {
     "data": {
      "image/png": "[encoded data removed]",
      "text/plain": [
       "<Figure size 432x288 with 1 Axes>"
      ]
     },
     "metadata": {
      "needs_background": "light"
     },
     "output_type": "display_data"
    },
    {
     "data": {
      "image/png": "[encoded data removed]",
      "text/plain": [
       "<Figure size 432x288 with 1 Axes>"
      ]
     },
     "metadata": {
      "needs_background": "light"
     },
     "output_type": "display_data"
    },
    {
     "data": {
      "image/png": "[encoded data removed]",
      "text/plain": [
       "<Figure size 432x288 with 1 Axes>"
      ]
     },
     "metadata": {
      "needs_background": "light"
     },
     "output_type": "display_data"
    },
    {
     "data": {
      "image/png": "[encoded data removed]",
      "text/plain": [
       "<Figure size 432x288 with 1 Axes>"
      ]
     },
     "metadata": {
      "needs_background": "light"
     },
     "output_type": "display_data"
    },
    {
     "data": {
      "image/png": "[encoded data removed]",
      "text/plain": [
       "<Figure size 432x288 with 1 Axes>"
      ]
     },
     "metadata": {
      "needs_background": "light"
     },
     "output_type": "display_data"
    }
   ],
   "source": [
    "envir = MazeEnv(maze)\n",
    "plt.imshow(envir._get_full_obs())\n",
    "\n",
    "obs, reward, done, info = envir.step(0)\n",
    "plt.figure()\n",
    "plt.imshow(obs)\n",
    "print('reward: ', reward)\n",
    "\n",
    "obs, reward, done, info = envir.step(1)\n",
    "plt.figure()\n",
    "plt.imshow(obs)\n",
    "print('reward: ', reward)\n",
    "\n",
    "obs, reward, done, info = envir.step(1)\n",
    "plt.figure()\n",
    "plt.imshow(obs)\n",
    "print('reward: ', reward)\n",
    "\n",
    "obs, reward, done, info = envir.step(1)\n",
    "plt.figure()\n",
    "plt.imshow(obs)\n",
    "print('reward: ', reward)"
   ]
  },
  {
   "cell_type": "code",
   "execution_count": 112,
   "id": "3e5acc4d-5f0e-42ba-a6b8-37e81970b52e",
   "metadata": {},
   "outputs": [],
   "source": [
    "def run_one_episode(env):\n",
    "    '''Given a gym environment (env) it computer one episode and return cumulative reward.\n",
    "    Used to check if our gym environments work'''\n",
    "    \n",
    "    env.reset()\n",
    "    sum_reward = 0\n",
    "    \n",
    "    steps = []\n",
    "    frames = []\n",
    "\n",
    "    done = False\n",
    "    while not done:\n",
    "        action = env.action_space.sample()\n",
    "        state, reward, done, info = env.step(action)\n",
    "        steps.append(reward)\n",
    "        sum_reward += reward\n",
    "        \n",
    "    return steps, sum_reward"
   ]
  },
  {
   "cell_type": "code",
   "execution_count": 113,
   "id": "964d972a-d96a-4770-b1b4-85179629f662",
   "metadata": {},
   "outputs": [
    {
     "data": {
      "text/plain": [
       "-149.55"
      ]
     },
     "execution_count": 113,
     "metadata": {},
     "output_type": "execute_result"
    }
   ],
   "source": [
    "steps, sum_reward = run_one_episode(envir)\n",
    "sum_reward"
   ]
  },
  {
   "cell_type": "code",
   "execution_count": 114,
   "id": "a97bb17e-26f9-40a3-b957-eb55b55657cd",
   "metadata": {},
   "outputs": [
    {
     "data": {
      "text/plain": [
       "<matplotlib.image.AxesImage at 0x7fef8cd4a450>"
      ]
     },
     "execution_count": 114,
     "metadata": {},
     "output_type": "execute_result"
    },
    {
     "data": {
      "image/png": "[encoded data removed]",
      "text/plain": [
       "<Figure size 432x288 with 2 Axes>"
      ]
     },
     "metadata": {
      "needs_background": "light"
     },
     "output_type": "display_data"
    }
   ],
   "source": [
    "m = RandomMazeGenerator(width=8, height=8)\n",
    "maze = m.get_maze()\n",
    "maze[1][1] = 2\n",
    "maze[-2][-2] = 3\n",
    "maze0 = maze\n",
    "\n",
    "m = RandomMazeGenerator(width=8, height=8)\n",
    "maze = m.get_maze()\n",
    "maze[1][1] = 2\n",
    "maze[-2][-2] = 3\n",
    "maze1 = maze\n",
    "\n",
    "fig, axs = plt.subplots(1, 2)\n",
    "axs[0].imshow(maze0)\n",
    "axs[1].imshow(maze1)"
   ]
  },
  {
   "cell_type": "code",
   "execution_count": 115,
   "id": "ea872836-e453-486f-9472-07ea9ac96412",
   "metadata": {},
   "outputs": [
    {
     "data": {
      "text/plain": [
       "<matplotlib.image.AxesImage at 0x7fef8cd4f0d0>"
      ]
     },
     "execution_count": 115,
     "metadata": {},
     "output_type": "execute_result"
    },
    {
     "data": {
      "image/png": "[encoded data removed]",
      "text/plain": [
       "<Figure size 432x288 with 1 Axes>"
      ]
     },
     "metadata": {
      "needs_background": "light"
     },
     "output_type": "display_data"
    }
   ],
   "source": [
    "envir = MazeEnv(maze0)\n",
    "plt.imshow(envir._get_full_obs())"
   ]
  },
  {
   "cell_type": "code",
   "execution_count": 116,
   "id": "41a9258b-7e25-4613-a5f7-b55bbbd0f523",
   "metadata": {},
   "outputs": [
    {
     "data": {
      "text/plain": [
       "<matplotlib.image.AxesImage at 0x7fef8cc1dfd0>"
      ]
     },
     "execution_count": 116,
     "metadata": {},
     "output_type": "execute_result"
    },
    {
     "data": {
      "image/png": "[encoded data removed]",
      "text/plain": [
       "<Figure size 432x288 with 1 Axes>"
      ]
     },
     "metadata": {
      "needs_background": "light"
     },
     "output_type": "display_data"
    }
   ],
   "source": [
    "envir.reset(maze = maze1)\n",
    "plt.imshow(envir._get_full_obs())"
   ]
  },
  {
   "cell_type": "code",
   "execution_count": 117,
   "id": "0216ae3e-7c99-4f99-bc22-64ad452ea58e",
   "metadata": {},
   "outputs": [
    {
     "data": {
      "text/plain": [
       "<matplotlib.image.AxesImage at 0x7fef8ccd3510>"
      ]
     },
     "execution_count": 117,
     "metadata": {},
     "output_type": "execute_result"
    },
    {
     "data": {
      "image/png": "[encoded data removed]",
      "text/plain": [
       "<Figure size 432x288 with 1 Axes>"
      ]
     },
     "metadata": {
      "needs_background": "light"
     },
     "output_type": "display_data"
    }
   ],
   "source": [
    "envir.reset()\n",
    "plt.imshow(envir._get_full_obs())"
   ]
  }
 ],
 "metadata": {
  "kernelspec": {
   "display_name": "Python 3",
   "language": "python",
   "name": "python3"
  },
  "language_info": {
   "codemirror_mode": {
    "name": "ipython",
    "version": 3
   },
   "file_extension": ".py",
   "mimetype": "text/x-python",
   "name": "python",
   "nbconvert_exporter": "python",
   "pygments_lexer": "ipython3",
   "version": "3.7.10"
  }
 },
 "nbformat": 4,
 "nbformat_minor": 5
}
