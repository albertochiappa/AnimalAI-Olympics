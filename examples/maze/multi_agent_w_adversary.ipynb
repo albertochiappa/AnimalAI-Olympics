{
 "cells": [
  {
   "cell_type": "code",
   "execution_count": 1,
   "id": "f7e9c1b0-f524-4d9b-b806-d43ef13fde60",
   "metadata": {},
   "outputs": [
    {
     "name": "stdout",
     "output_type": "stream",
     "text": [
      "WARNING:tensorflow:From /home/psanchezlopez/anaconda3/envs/animalai/lib/python3.7/site-packages/tensorflow_core/python/compat/v2_compat.py:68: disable_resource_variables (from tensorflow.python.ops.variable_scope) is deprecated and will be removed in a future version.\n",
      "Instructions for updating:\n",
      "non-resource variables are not supported in the long term\n"
     ]
    }
   ],
   "source": [
    "from typing import Tuple, Dict, List\n",
    "import gym\n",
    "\n",
    "from ray.rllib.env.multi_agent_env import MultiAgentEnv"
   ]
  },
  {
   "cell_type": "code",
   "execution_count": 2,
   "id": "6606deba-896e-4faf-9e50-2aa9d138ecc2",
   "metadata": {},
   "outputs": [],
   "source": [
    "import matplotlib.pyplot as plt\n",
    "from matplotlib import animation\n",
    "from IPython.display import display, clear_output\n",
    "import numpy as np\n",
    "\n",
    "from IPython.display import display, HTML\n",
    "\n",
    "from gym_maze.envs import MazeEnv2, Adversary, AdvPro, AdvPro2, PAIRED"
   ]
  },
  {
   "cell_type": "code",
   "execution_count": 3,
   "id": "32668c91-f007-4955-af9f-2b8dc55ed08e",
   "metadata": {},
   "outputs": [],
   "source": [
    "def run_one_episode_adv(env):\n",
    "    '''Given a gym environment (env) it computer one episode and return cumulative reward.\n",
    "    Used to check if our gym environments work'''\n",
    "    \n",
    "    env.reset()\n",
    "    sum_reward = 0\n",
    "    \n",
    "    steps = []\n",
    "    frames = []\n",
    "    \n",
    "    steps.append(env.state.copy())\n",
    "\n",
    "\n",
    "    while not env.done:\n",
    "        action = env.action_space.sample()\n",
    "        state, reward, done, info = env.step(action)\n",
    "        print(state)\n",
    "        steps.append(env.state.copy())\n",
    "        sum_reward += reward\n",
    "        print(info)\n",
    "        \n",
    "    return env"
   ]
  },
  {
   "cell_type": "code",
   "execution_count": 4,
   "id": "b06de2e4-8456-4cf0-bdc6-e3b14e773179",
   "metadata": {},
   "outputs": [
    {
     "name": "stdout",
     "output_type": "stream",
     "text": [
      "{'image': array([[0., 0., 0., 0., 0., 0., 0., 0.],\n",
      "       [0., 0., 0., 0., 3., 0., 0., 0.],\n",
      "       [0., 0., 0., 0., 0., 0., 0., 0.],\n",
      "       [0., 0., 0., 0., 0., 0., 0., 0.],\n",
      "       [0., 0., 0., 0., 0., 0., 0., 0.],\n",
      "       [0., 0., 0., 0., 0., 0., 0., 0.],\n",
      "       [0., 0., 0., 0., 0., 0., 0., 0.],\n",
      "       [0., 0., 0., 0., 0., 0., 0., 0.]]), 'time_step': [0]}\n",
      "{'ready': 'no'}\n",
      "{'image': array([[0., 0., 0., 0., 0., 0., 0., 0.],\n",
      "       [2., 0., 0., 0., 3., 0., 0., 0.],\n",
      "       [0., 0., 0., 0., 0., 0., 0., 0.],\n",
      "       [0., 0., 0., 0., 0., 0., 0., 0.],\n",
      "       [0., 0., 0., 0., 0., 0., 0., 0.],\n",
      "       [0., 0., 0., 0., 0., 0., 0., 0.],\n",
      "       [0., 0., 0., 0., 0., 0., 0., 0.],\n",
      "       [0., 0., 0., 0., 0., 0., 0., 0.]]), 'time_step': [1]}\n",
      "{'ready': 'no'}\n",
      "{'image': array([[0., 0., 0., 0., 0., 0., 0., 0.],\n",
      "       [2., 0., 0., 0., 3., 0., 0., 0.],\n",
      "       [0., 0., 0., 0., 0., 0., 0., 0.],\n",
      "       [0., 0., 0., 0., 0., 0., 0., 0.],\n",
      "       [0., 0., 0., 0., 0., 0., 0., 0.],\n",
      "       [0., 0., 0., 0., 0., 0., 0., 0.],\n",
      "       [0., 0., 0., 0., 0., 0., 0., 0.],\n",
      "       [0., 1., 0., 0., 0., 0., 0., 0.]]), 'time_step': [2]}\n",
      "{'ready': 'no'}\n",
      "{'image': array([[0., 0., 0., 0., 0., 0., 0., 0.],\n",
      "       [2., 0., 0., 0., 3., 0., 0., 0.],\n",
      "       [0., 0., 0., 0., 0., 0., 0., 0.],\n",
      "       [0., 0., 0., 0., 0., 1., 0., 0.],\n",
      "       [0., 0., 0., 0., 0., 0., 0., 0.],\n",
      "       [0., 0., 0., 0., 0., 0., 0., 0.],\n",
      "       [0., 0., 0., 0., 0., 0., 0., 0.],\n",
      "       [0., 1., 0., 0., 0., 0., 0., 0.]]), 'time_step': [3]}\n",
      "{'ready': 'yes'}\n",
      "{'image': array([[0., 0., 0., 0., 0., 0., 0., 0.],\n",
      "       [2., 0., 0., 0., 3., 0., 0., 0.],\n",
      "       [0., 0., 0., 0., 0., 0., 0., 0.],\n",
      "       [0., 0., 0., 0., 0., 1., 0., 0.],\n",
      "       [0., 0., 0., 0., 0., 0., 0., 0.],\n",
      "       [0., 0., 0., 0., 0., 0., 0., 0.],\n",
      "       [0., 0., 0., 0., 0., 0., 0., 0.],\n",
      "       [0., 1., 0., 0., 0., 0., 0., 0.]]), 'time_step': [3]}\n",
      "{'ready': 'other'}\n"
     ]
    }
   ],
   "source": [
    "adversary = Adversary(n_clutter=2, size=8)\n",
    "adversary = run_one_episode_adv(adversary)\n",
    "protagonist = MazeEnv2(adversary.state['image'])\n",
    "antagonist = MazeEnv2(adversary.state['image'])\n",
    "adversary = Adversary(n_clutter=2, size=8)"
   ]
  },
  {
   "cell_type": "code",
   "execution_count": 5,
   "id": "64f73771-d204-48dd-b6d7-3ac67472766d",
   "metadata": {},
   "outputs": [],
   "source": [
    "env = AdvPro2(adversary, protagonist, save=True, file_name='mazes_advpro_10_8/')"
   ]
  },
  {
   "cell_type": "code",
   "execution_count": 6,
   "id": "28653385-8a29-4820-acae-553cab3b5e1a",
   "metadata": {},
   "outputs": [
    {
     "data": {
      "text/plain": [
       "({0: {'image': array([[0., 0., 0., 0., 0., 0., 0., 0.],\n",
       "          [0., 0., 0., 0., 0., 0., 0., 0.],\n",
       "          [0., 0., 0., 0., 0., 0., 0., 0.],\n",
       "          [0., 0., 0., 0., 0., 0., 0., 0.],\n",
       "          [0., 0., 0., 0., 0., 0., 0., 0.],\n",
       "          [0., 0., 0., 0., 0., 0., 0., 0.],\n",
       "          [0., 3., 0., 0., 0., 0., 0., 0.],\n",
       "          [0., 0., 0., 0., 0., 0., 0., 0.]]),\n",
       "   'time_step': [0]}},\n",
       " {0: 0},\n",
       " {0: False, '__all__': False},\n",
       " {0: {'ready': 'no'}})"
      ]
     },
     "execution_count": 6,
     "metadata": {},
     "output_type": "execute_result"
    }
   ],
   "source": [
    "action = {0: env.action_space[0].sample(), 1: 0}\n",
    "state, reward, done, info = env.step(action)\n",
    "state, reward, done, info"
   ]
  },
  {
   "cell_type": "code",
   "execution_count": 7,
   "id": "42f867da-adfc-4dc4-a064-e6b58744b88c",
   "metadata": {
    "collapsed": true,
    "jupyter": {
     "outputs_hidden": true
    },
    "tags": []
   },
   "outputs": [
    {
     "name": "stdout",
     "output_type": "stream",
     "text": [
      "{0: {'ready': 'no'}}\n",
      "{0: {'ready': 'no'}}\n",
      "{0: {'ready': 'no'}}\n",
      "{0: {'ready': 'yes'}}\n",
      "EPISODE DONE!!!\n",
      "EPISODE DONE!!!\n",
      "EPISODE DONE!!!\n",
      "EPISODE DONE!!!\n",
      "EPISODE DONE!!!\n",
      "EPISODE DONE!!!\n",
      "EPISODE DONE!!!\n",
      "EPISODE DONE!!!\n",
      "EPISODE DONE!!!\n",
      "EPISODE DONE!!!\n",
      "EPISODE DONE!!!\n",
      "EPISODE DONE!!!\n",
      "EPISODE DONE!!!\n",
      "EPISODE DONE!!!\n",
      "EPISODE DONE!!!\n",
      "EPISODE DONE!!!\n",
      "EPISODE DONE!!!\n",
      "EPISODE DONE!!!\n",
      "EPISODE DONE!!!\n",
      "EPISODE DONE!!!\n",
      "EPISODE DONE!!!\n",
      "EPISODE DONE!!!\n",
      "EPISODE DONE!!!\n",
      "EPISODE DONE!!!\n",
      "EPISODE DONE!!!\n",
      "EPISODE DONE!!!\n",
      "EPISODE DONE!!!\n",
      "EPISODE DONE!!!\n",
      "EPISODE DONE!!!\n",
      "EPISODE DONE!!!\n",
      "EPISODE DONE!!!\n",
      "EPISODE DONE!!!\n",
      "EPISODE DONE!!!\n",
      "EPISODE DONE!!!\n",
      "EPISODE DONE!!!\n",
      "EPISODE DONE!!!\n",
      "EPISODE DONE!!!\n",
      "EPISODE DONE!!!\n",
      "EPISODE DONE!!!\n",
      "EPISODE DONE!!!\n",
      "EPISODE DONE!!!\n",
      "EPISODE DONE!!!\n",
      "EPISODE DONE!!!\n",
      "EPISODE DONE!!!\n",
      "EPISODE DONE!!!\n",
      "EPISODE DONE!!!\n",
      "EPISODE DONE!!!\n",
      "EPISODE DONE!!!\n",
      "EPISODE DONE!!!\n",
      "EPISODE DONE!!!\n",
      "EPISODE DONE!!!\n",
      "EPISODE DONE!!!\n",
      "EPISODE DONE!!!\n",
      "EPISODE DONE!!!\n",
      "EPISODE DONE!!!\n",
      "EPISODE DONE!!!\n",
      "EPISODE DONE!!!\n",
      "EPISODE DONE!!!\n",
      "EPISODE DONE!!!\n",
      "EPISODE DONE!!!\n",
      "EPISODE DONE!!!\n",
      "EPISODE DONE!!!\n",
      "EPISODE DONE!!!\n",
      "EPISODE DONE!!!\n",
      "EPISODE DONE!!!\n",
      "EPISODE DONE!!!\n",
      "EPISODE DONE!!!\n",
      "EPISODE DONE!!!\n",
      "EPISODE DONE!!!\n",
      "EPISODE DONE!!!\n",
      "EPISODE DONE!!!\n",
      "EPISODE DONE!!!\n",
      "EPISODE DONE!!!\n",
      "EPISODE DONE!!!\n",
      "EPISODE DONE!!!\n",
      "EPISODE DONE!!!\n",
      "EPISODE DONE!!!\n",
      "EPISODE DONE!!!\n",
      "EPISODE DONE!!!\n",
      "EPISODE DONE!!!\n",
      "EPISODE DONE!!!\n",
      "EPISODE DONE!!!\n",
      "EPISODE DONE!!!\n",
      "EPISODE DONE!!!\n",
      "EPISODE DONE!!!\n",
      "EPISODE DONE!!!\n",
      "EPISODE DONE!!!\n",
      "EPISODE DONE!!!\n",
      "EPISODE DONE!!!\n",
      "EPISODE DONE!!!\n",
      "EPISODE DONE!!!\n",
      "EPISODE DONE!!!\n",
      "EPISODE DONE!!!\n",
      "EPISODE DONE!!!\n",
      "EPISODE DONE!!!\n",
      "EPISODE DONE!!!\n",
      "EPISODE DONE!!!\n",
      "EPISODE DONE!!!\n",
      "EPISODE DONE!!!\n",
      "EPISODE DONE!!!\n",
      "EPISODE DONE!!!\n",
      "EPISODE DONE!!!\n",
      "EPISODE DONE!!!\n",
      "EPISODE DONE!!!\n",
      "EPISODE DONE!!!\n",
      "EPISODE DONE!!!\n",
      "EPISODE DONE!!!\n",
      "EPISODE DONE!!!\n",
      "EPISODE DONE!!!\n",
      "EPISODE DONE!!!\n",
      "EPISODE DONE!!!\n",
      "EPISODE DONE!!!\n",
      "EPISODE DONE!!!\n",
      "EPISODE DONE!!!\n",
      "EPISODE DONE!!!\n",
      "EPISODE DONE!!!\n",
      "EPISODE DONE!!!\n",
      "EPISODE DONE!!!\n",
      "EPISODE DONE!!!\n",
      "EPISODE DONE!!!\n",
      "EPISODE DONE!!!\n",
      "EPISODE DONE!!!\n",
      "EPISODE DONE!!!\n",
      "EPISODE DONE!!!\n",
      "EPISODE DONE!!!\n",
      "EPISODE DONE!!!\n",
      "EPISODE DONE!!!\n",
      "EPISODE DONE!!!\n",
      "EPISODE DONE!!!\n",
      "EPISODE DONE!!!\n",
      "EPISODE DONE!!!\n",
      "EPISODE DONE!!!\n",
      "EPISODE DONE!!!\n",
      "EPISODE DONE!!!\n",
      "EPISODE DONE!!!\n",
      "EPISODE DONE!!!\n",
      "EPISODE DONE!!!\n",
      "EPISODE DONE!!!\n",
      "EPISODE DONE!!!\n",
      "EPISODE DONE!!!\n",
      "EPISODE DONE!!!\n",
      "EPISODE DONE!!!\n",
      "EPISODE DONE!!!\n",
      "EPISODE DONE!!!\n",
      "EPISODE DONE!!!\n",
      "EPISODE DONE!!!\n",
      "EPISODE DONE!!!\n",
      "EPISODE DONE!!!\n",
      "EPISODE DONE!!!\n",
      "EPISODE DONE!!!\n",
      "EPISODE DONE!!!\n",
      "EPISODE DONE!!!\n",
      "EPISODE DONE!!!\n",
      "EPISODE DONE!!!\n",
      "EPISODE DONE!!!\n",
      "EPISODE DONE!!!\n",
      "EPISODE DONE!!!\n",
      "EPISODE DONE!!!\n",
      "EPISODE DONE!!!\n",
      "EPISODE DONE!!!\n",
      "EPISODE DONE!!!\n",
      "EPISODE DONE!!!\n",
      "EPISODE DONE!!!\n",
      "EPISODE DONE!!!\n",
      "EPISODE DONE!!!\n",
      "EPISODE DONE!!!\n",
      "EPISODE DONE!!!\n",
      "EPISODE DONE!!!\n",
      "EPISODE DONE!!!\n",
      "EPISODE DONE!!!\n",
      "EPISODE DONE!!!\n",
      "EPISODE DONE!!!\n",
      "EPISODE DONE!!!\n",
      "EPISODE DONE!!!\n",
      "EPISODE DONE!!!\n",
      "EPISODE DONE!!!\n",
      "EPISODE DONE!!!\n",
      "EPISODE DONE!!!\n",
      "EPISODE DONE!!!\n",
      "EPISODE DONE!!!\n",
      "EPISODE DONE!!!\n",
      "EPISODE DONE!!!\n",
      "EPISODE DONE!!!\n",
      "EPISODE DONE!!!\n",
      "EPISODE DONE!!!\n",
      "EPISODE DONE!!!\n",
      "EPISODE DONE!!!\n",
      "EPISODE DONE!!!\n",
      "EPISODE DONE!!!\n",
      "EPISODE DONE!!!\n",
      "EPISODE DONE!!!\n",
      "EPISODE DONE!!!\n",
      "EPISODE DONE!!!\n",
      "EPISODE DONE!!!\n",
      "EPISODE DONE!!!\n",
      "EPISODE DONE!!!\n",
      "EPISODE DONE!!!\n",
      "EPISODE DONE!!!\n",
      "EPISODE DONE!!!\n",
      "EPISODE DONE!!!\n",
      "EPISODE DONE!!!\n",
      "EPISODE DONE!!!\n",
      "EPISODE DONE!!!\n",
      "EPISODE DONE!!!\n",
      "EPISODE DONE!!!\n",
      "EPISODE DONE!!!\n",
      "EPISODE DONE!!!\n",
      "EPISODE DONE!!!\n",
      "EPISODE DONE!!!\n",
      "EPISODE DONE!!!\n",
      "EPISODE DONE!!!\n",
      "EPISODE DONE!!!\n",
      "EPISODE DONE!!!\n",
      "EPISODE DONE!!!\n",
      "EPISODE DONE!!!\n",
      "EPISODE DONE!!!\n",
      "EPISODE DONE!!!\n",
      "EPISODE DONE!!!\n",
      "EPISODE DONE!!!\n",
      "EPISODE DONE!!!\n",
      "EPISODE DONE!!!\n",
      "EPISODE DONE!!!\n",
      "EPISODE DONE!!!\n",
      "EPISODE DONE!!!\n",
      "EPISODE DONE!!!\n",
      "EPISODE DONE!!!\n",
      "EPISODE DONE!!!\n",
      "EPISODE DONE!!!\n",
      "EPISODE DONE!!!\n",
      "EPISODE DONE!!!\n",
      "EPISODE DONE!!!\n",
      "EPISODE DONE!!!\n",
      "{0: {'ready': 'other'}}\n"
     ]
    }
   ],
   "source": [
    "def run_one_episode(env, verbose=False):\n",
    "    '''Given a gym environment (env) it computer one episode and return cumulative reward.\n",
    "    Used to check if our gym environments work'''\n",
    "    env.reset()\n",
    "    sum_reward_0 = 0\n",
    "    sum_reward_1 = 0\n",
    "    states0 = []\n",
    "    states1 = []\n",
    "    \n",
    "    action = {0: env.action_space[0].sample(), 1: env.action_space[1].sample()}\n",
    "    if verbose:\n",
    "        print(\"action:\", action)\n",
    "    state, reward, done, info = env.step(action)\n",
    "    try:\n",
    "        sum_reward_0 += reward[0]\n",
    "        print(info)\n",
    "        states0.append(state[0].copy())\n",
    "    except:\n",
    "        pass\n",
    "    try: \n",
    "        sum_reward_1 += reward[1]\n",
    "        states1.append(state[1].copy())\n",
    "    except:\n",
    "        pass\n",
    "\n",
    "    while not done[\"__all__\"]:\n",
    "        action = {0: env.action_space[0].sample(), 1: env.action_space[1].sample()}\n",
    "        if verbose:\n",
    "            print(\"action:\", action)\n",
    "        state, reward, done, info = env.step(action)\n",
    "        try:\n",
    "            sum_reward_0 += reward[0]\n",
    "            print(info)\n",
    "            states0.append(state[0].copy())\n",
    "        except:\n",
    "            pass\n",
    "        try: \n",
    "            sum_reward_1 += reward[1]\n",
    "            states1.append(state[1].copy())\n",
    "        except:\n",
    "            pass\n",
    "        \n",
    "\n",
    "    return sum_reward_0, sum_reward_1, states0, states1\n",
    "\n",
    "sum_reward_0, sum_reward_1, states0, states1 = run_one_episode(env)"
   ]
  },
  {
   "cell_type": "code",
   "execution_count": 44,
   "id": "cafcaa2e-094e-4ab4-90a6-be119ddd864c",
   "metadata": {},
   "outputs": [
    {
     "data": {
      "text/plain": [
       "<matplotlib.image.AxesImage at 0x7f223cc4e150>"
      ]
     },
     "execution_count": 44,
     "metadata": {},
     "output_type": "execute_result"
    },
    {
     "data": {
      "image/png": "[encoded data removed]",
      "text/plain": [
       "<Figure size 432x288 with 1 Axes>"
      ]
     },
     "metadata": {
      "needs_background": "light"
     },
     "output_type": "display_data"
    }
   ],
   "source": [
    "plt.imshow(states0[0][\"image\"])"
   ]
  },
  {
   "cell_type": "code",
   "execution_count": 21,
   "id": "a5bb7406-2e8b-403e-8112-a7765e604cca",
   "metadata": {},
   "outputs": [
    {
     "data": {
      "text/plain": [
       "{0: Discrete(64), 1: Discrete(4)}"
      ]
     },
     "execution_count": 21,
     "metadata": {},
     "output_type": "execute_result"
    }
   ],
   "source": [
    "env.action_space"
   ]
  },
  {
   "cell_type": "code",
   "execution_count": 22,
   "id": "a6fed69c-c410-4ffb-8ad5-7fefc45c870b",
   "metadata": {},
   "outputs": [
    {
     "data": {
      "text/plain": [
       "{0: Dict(image:Box(0.0, 3.0, (8, 8), float16), time_step:Box(0, 4, (1,), uint8)),\n",
       " 1: Box(0.0, 3.0, (8, 8), float32)}"
      ]
     },
     "execution_count": 22,
     "metadata": {},
     "output_type": "execute_result"
    }
   ],
   "source": [
    "env.observation_space"
   ]
  },
  {
   "cell_type": "markdown",
   "id": "b666f661-9803-4ddd-a926-ae93ffc91c14",
   "metadata": {},
   "source": [
    "# PAIRED --> independent training"
   ]
  },
  {
   "cell_type": "code",
   "execution_count": 4,
   "id": "ff3bcde8-a4a5-4644-a944-bf1df9f6b51a",
   "metadata": {
    "tags": []
   },
   "outputs": [
    {
     "name": "stdout",
     "output_type": "stream",
     "text": [
      "{'image': array([[0., 0., 3., 0.],\n",
      "       [0., 0., 0., 0.],\n",
      "       [0., 0., 0., 0.],\n",
      "       [0., 0., 0., 0.]]), 'time_step': [0]}\n",
      "{'ready': 'no'}\n",
      "{'image': array([[0., 0., 3., 0.],\n",
      "       [0., 2., 0., 0.],\n",
      "       [0., 0., 0., 0.],\n",
      "       [0., 0., 0., 0.]]), 'time_step': [1]}\n",
      "{'ready': 'no'}\n",
      "{'image': array([[0., 0., 3., 0.],\n",
      "       [0., 2., 0., 0.],\n",
      "       [0., 0., 0., 1.],\n",
      "       [0., 0., 0., 0.]]), 'time_step': [2]}\n",
      "{'ready': 'no'}\n",
      "{'image': array([[0., 0., 3., 0.],\n",
      "       [0., 2., 0., 0.],\n",
      "       [0., 0., 1., 1.],\n",
      "       [0., 0., 0., 0.]]), 'time_step': [3]}\n",
      "{'ready': 'yes'}\n",
      "{'image': array([[0., 0., 3., 0.],\n",
      "       [0., 2., 0., 0.],\n",
      "       [0., 0., 1., 1.],\n",
      "       [0., 0., 0., 0.]]), 'time_step': [3]}\n",
      "{'ready': 'other'}\n"
     ]
    }
   ],
   "source": [
    "adversary = Adversary(n_clutter=2, size=4)\n",
    "adversary = run_one_episode_adv(adversary)\n",
    "protagonist = MazeEnv2(adversary.state['image'])\n",
    "antagonist = MazeEnv2(adversary.state['image'])\n",
    "adversary = Adversary(n_clutter=2, size=4)"
   ]
  },
  {
   "cell_type": "code",
   "execution_count": 5,
   "id": "2c7c3101-7d72-476f-9646-1dc18a7f23f4",
   "metadata": {},
   "outputs": [],
   "source": [
    "env = PAIRED(adversary, protagonist, antagonist, file_name = 'trial', save = True)"
   ]
  },
  {
   "cell_type": "code",
   "execution_count": 6,
   "id": "8fc1394f-3ba3-4a38-a33d-a573625a4b67",
   "metadata": {},
   "outputs": [
    {
     "data": {
      "text/plain": [
       "{0: {'image': array([[0., 0., 0., 0.],\n",
       "         [0., 0., 0., 0.],\n",
       "         [0., 0., 0., 0.],\n",
       "         [0., 0., 0., 0.]]),\n",
       "  'time_step': [0]},\n",
       " 1: array([[0., 0., 3., 0.],\n",
       "        [0., 2., 0., 0.],\n",
       "        [0., 0., 1., 1.],\n",
       "        [0., 0., 0., 0.]]),\n",
       " 2: array([[0., 0., 3., 0.],\n",
       "        [0., 2., 0., 0.],\n",
       "        [0., 0., 1., 1.],\n",
       "        [0., 0., 0., 0.]])}"
      ]
     },
     "execution_count": 6,
     "metadata": {},
     "output_type": "execute_result"
    }
   ],
   "source": [
    "env.reset()"
   ]
  },
  {
   "cell_type": "code",
   "execution_count": 16,
   "id": "94e699be-2515-4a47-a4aa-6f74d1eaaf99",
   "metadata": {},
   "outputs": [
    {
     "name": "stdout",
     "output_type": "stream",
     "text": [
      "EPISODE DONE!!!\n"
     ]
    },
    {
     "data": {
      "text/plain": [
       "({0: {'image': array([[0., 0., 0., 0.],\n",
       "          [0., 0., 0., 0.],\n",
       "          [0., 0., 3., 0.],\n",
       "          [2., 0., 0., 1.]]),\n",
       "   'time_step': [3]}},\n",
       " {0: 1.96},\n",
       " {0: True, '__all__': True},\n",
       " {0: {'ready': 'other'}},\n",
       " True,\n",
       " True)"
      ]
     },
     "execution_count": 16,
     "metadata": {},
     "output_type": "execute_result"
    }
   ],
   "source": [
    "action = {0: env.action_space[0].sample(), 1: 3, 2: 3}\n",
    "state, reward, done, info = env.step(action)\n",
    "state, reward, done, info, env.pro_finished, env.ant_finished"
   ]
  },
  {
   "cell_type": "code",
   "execution_count": 19,
   "id": "5b61983b-2840-4363-a23f-582844d4fc82",
   "metadata": {},
   "outputs": [],
   "source": [
    "import pickle\n",
    "import os\n",
    "with open('trial1.pkl', \"rb\") as f:\n",
    "    maze = pickle.load(f)"
   ]
  },
  {
   "cell_type": "code",
   "execution_count": 21,
   "id": "e064106f-67c4-4f28-8719-a78985dd9412",
   "metadata": {},
   "outputs": [
    {
     "data": {
      "text/plain": [
       "[array([[0., 0., 0., 0.],\n",
       "        [0., 0., 0., 0.],\n",
       "        [0., 0., 3., 0.],\n",
       "        [2., 0., 0., 1.]]),\n",
       " 0.98,\n",
       " 0.98,\n",
       " 1.96,\n",
       " 0.98,\n",
       " 0.98,\n",
       " 1.96,\n",
       " 0.98,\n",
       " 0.98,\n",
       " 1.96]"
      ]
     },
     "execution_count": 21,
     "metadata": {},
     "output_type": "execute_result"
    }
   ],
   "source": [
    "maze"
   ]
  },
  {
   "cell_type": "code",
   "execution_count": null,
   "id": "7ec2f118-4eb6-4bf6-b00b-352f57aa5d29",
   "metadata": {},
   "outputs": [],
   "source": []
  }
 ],
 "metadata": {
  "kernelspec": {
   "display_name": "Python 3",
   "language": "python",
   "name": "python3"
  },
  "language_info": {
   "codemirror_mode": {
    "name": "ipython",
    "version": 3
   },
   "file_extension": ".py",
   "mimetype": "text/x-python",
   "name": "python",
   "nbconvert_exporter": "python",
   "pygments_lexer": "ipython3",
   "version": "3.7.10"
  }
 },
 "nbformat": 4,
 "nbformat_minor": 5
}
